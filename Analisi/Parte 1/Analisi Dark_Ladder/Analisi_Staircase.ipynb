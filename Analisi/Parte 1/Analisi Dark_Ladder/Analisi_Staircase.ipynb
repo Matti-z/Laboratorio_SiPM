{
 "cells": [
  {
   "cell_type": "code",
   "execution_count": 33,
   "id": "a445f666",
   "metadata": {},
   "outputs": [],
   "source": [
    "import matplotlib.pyplot as plt\n",
    "import numpy as np\n",
    "import pandas as pd\n",
    "import os "
   ]
  },
  {
   "cell_type": "code",
   "execution_count": null,
   "id": "04943949",
   "metadata": {},
   "outputs": [],
   "source": [
    "def invert (X):\n",
    "    for i in range(len(X)):\n",
    "        X[i] = - X[i]\n",
    "    return X"
   ]
  },
  {
   "cell_type": "code",
   "execution_count": null,
   "id": "bc25ce99",
   "metadata": {},
   "outputs": [],
   "source": [
    "def graph(X1, Y1, X2, Y2, X3, Y3, X4, Y4, X5, Y5, X6, Y6):\n",
    "    fig, ax = plt.subplots(nrows= 1, ncols=1)\n",
    "\n",
    "    plt.plot(invert(X1), Y1, label='53.5mV', linewidth=0.8)\n",
    "    ax.scatter(X1, Y1)\n",
    "\n",
    "    plt.plot(invert(X2), Y2, label='54mV', linewidth=0.8)\n",
    "    ax.scatter(X2, Y2)\n",
    "\n",
    "    plt.plot(invert(X3), Y3, label='54.5mV',linewidth=0.8)\n",
    "    ax.scatter(X3, Y3)\n",
    "    \n",
    "    plt.plot(invert(X5), Y5, label='55mV',linewidth=0.8)\n",
    "    ax.scatter(X5, Y5)\n",
    "    \n",
    "    plt.plot(invert(X6), Y6, label='55.5mV',linewidth=0.8)\n",
    "    ax.scatter(X6, Y6)\n",
    "\n",
    "    ax.set_yscale (\"log\")\n",
    "    ax.set_xlabel(\"Threshold[mV]\")\n",
    "    ax.set_ylabel(\"Log(Frequency[kHz])\")\n",
    "    ax.legend()\n",
    "    plt.grid()\n",
    "    plt.savefig(\"Staircase_Finale.png\")\n",
    "    plt.show()\n",
    "   "
   ]
  },
  {
   "cell_type": "code",
   "execution_count": 35,
   "id": "6c8aeac4",
   "metadata": {},
   "outputs": [],
   "source": [
    "def cut_0(X, Y):\n",
    "    X1 = []\n",
    "    Y1 = []\n",
    "    for i in range(len(X)):\n",
    "        if X[i] != 0:\n",
    "            X1.append(X[i])\n",
    "            Y1.append(Y[i])\n",
    "    return Y1, X1"
   ]
  },
  {
   "cell_type": "code",
   "execution_count": 36,
   "id": "7d37c1b6",
   "metadata": {},
   "outputs": [
    {
     "name": "stdout",
     "output_type": "stream",
     "text": [
      "[np.float64(0.421933), np.float64(0.248167), np.float64(0.170433), np.float64(0.0392333), np.float64(0.00166667), np.float64(0.000666667), np.float64(0.000566667), np.float64(6.67e-05), np.float64(6.67e-05)]\n"
     ]
    },
    {
     "ename": "TypeError",
     "evalue": "bad operand type for unary -: 'list'",
     "output_type": "error",
     "traceback": [
      "\u001b[31m---------------------------------------------------------------------------\u001b[39m",
      "\u001b[31mTypeError\u001b[39m                                 Traceback (most recent call last)",
      "\u001b[36mCell\u001b[39m\u001b[36m \u001b[39m\u001b[32mIn[36]\u001b[39m\u001b[32m, line 12\u001b[39m\n\u001b[32m      8\u001b[39m K6 = cut_0(Z[\u001b[33m\"\u001b[39m\u001b[33mF [kHz] V_B 56V\u001b[39m\u001b[33m\"\u001b[39m], Y)\n\u001b[32m     10\u001b[39m \u001b[38;5;28mprint\u001b[39m(K1[\u001b[32m1\u001b[39m])\n\u001b[32m---> \u001b[39m\u001b[32m12\u001b[39m \u001b[43mgraph\u001b[49m\u001b[43m(\u001b[49m\u001b[43mK1\u001b[49m\u001b[43m[\u001b[49m\u001b[32;43m0\u001b[39;49m\u001b[43m]\u001b[49m\u001b[43m,\u001b[49m\u001b[43m \u001b[49m\u001b[43mK1\u001b[49m\u001b[43m[\u001b[49m\u001b[32;43m1\u001b[39;49m\u001b[43m]\u001b[49m\u001b[43m,\u001b[49m\u001b[43m \u001b[49m\u001b[43mK2\u001b[49m\u001b[43m[\u001b[49m\u001b[32;43m0\u001b[39;49m\u001b[43m]\u001b[49m\u001b[43m,\u001b[49m\u001b[43m \u001b[49m\u001b[43mK2\u001b[49m\u001b[43m[\u001b[49m\u001b[32;43m1\u001b[39;49m\u001b[43m]\u001b[49m\u001b[43m,\u001b[49m\u001b[43m \u001b[49m\u001b[43mK3\u001b[49m\u001b[43m[\u001b[49m\u001b[32;43m0\u001b[39;49m\u001b[43m]\u001b[49m\u001b[43m,\u001b[49m\u001b[43m \u001b[49m\u001b[43mK3\u001b[49m\u001b[43m[\u001b[49m\u001b[32;43m1\u001b[39;49m\u001b[43m]\u001b[49m\u001b[43m,\u001b[49m\u001b[43m \u001b[49m\u001b[43mK4\u001b[49m\u001b[43m[\u001b[49m\u001b[32;43m0\u001b[39;49m\u001b[43m]\u001b[49m\u001b[43m,\u001b[49m\u001b[43m \u001b[49m\u001b[43mK4\u001b[49m\u001b[43m[\u001b[49m\u001b[32;43m1\u001b[39;49m\u001b[43m]\u001b[49m\u001b[43m,\u001b[49m\u001b[43m \u001b[49m\u001b[43mK5\u001b[49m\u001b[43m[\u001b[49m\u001b[32;43m0\u001b[39;49m\u001b[43m]\u001b[49m\u001b[43m,\u001b[49m\u001b[43m \u001b[49m\u001b[43mK5\u001b[49m\u001b[43m[\u001b[49m\u001b[32;43m1\u001b[39;49m\u001b[43m]\u001b[49m\u001b[43m,\u001b[49m\u001b[43m \u001b[49m\u001b[43mK6\u001b[49m\u001b[43m[\u001b[49m\u001b[32;43m0\u001b[39;49m\u001b[43m]\u001b[49m\u001b[43m,\u001b[49m\u001b[43m \u001b[49m\u001b[43mK6\u001b[49m\u001b[43m[\u001b[49m\u001b[32;43m1\u001b[39;49m\u001b[43m]\u001b[49m\u001b[43m)\u001b[49m\n",
      "\u001b[36mCell\u001b[39m\u001b[36m \u001b[39m\u001b[32mIn[34]\u001b[39m\u001b[32m, line 4\u001b[39m, in \u001b[36mgraph\u001b[39m\u001b[34m(X1, Y1, X2, Y2, X3, Y3, X4, Y4, X5, Y5, X6, Y6)\u001b[39m\n\u001b[32m      1\u001b[39m \u001b[38;5;28;01mdef\u001b[39;00m\u001b[38;5;250m \u001b[39m\u001b[34mgraph\u001b[39m(X1, Y1, X2, Y2, X3, Y3, X4, Y4, X5, Y5, X6, Y6):\n\u001b[32m      2\u001b[39m     fig, ax = plt.subplots(nrows= \u001b[32m1\u001b[39m, ncols=\u001b[32m1\u001b[39m)\n\u001b[32m----> \u001b[39m\u001b[32m4\u001b[39m     plt.plot(\u001b[43m-\u001b[49m\u001b[43mX1\u001b[49m, Y1, label=\u001b[33m'\u001b[39m\u001b[33m53.5mV\u001b[39m\u001b[33m'\u001b[39m, linewidth=\u001b[32m0.8\u001b[39m)\n\u001b[32m      5\u001b[39m     ax.scatter(-X1, Y1)\n\u001b[32m      7\u001b[39m     plt.plot(-X2, Y2, label=\u001b[33m'\u001b[39m\u001b[33m54mV\u001b[39m\u001b[33m'\u001b[39m, linewidth=\u001b[32m0.8\u001b[39m)\n",
      "\u001b[31mTypeError\u001b[39m: bad operand type for unary -: 'list'"
     ]
    },
    {
     "data": {
      "image/png": "[encoded data removed]",
      "text/plain": [
       "<Figure size 640x480 with 1 Axes>"
      ]
     },
     "metadata": {},
     "output_type": "display_data"
    }
   ],
   "source": [
    "Z = pd.read_csv(\"staircase_plot_bello.CSV\")\n",
    "Y = Z[\"Th [mV] V_B 53_5V \"]\n",
    "K1 = cut_0(Z[\"F [kHz] V_B 53_5V\"], Y)\n",
    "K2 = cut_0(Z[\"F [kHz] V_B 54V\"], Y)\n",
    "K3 = cut_0(Z[\"F [kHz] V_B 54_5V\"], Y)\n",
    "K4 = cut_0(Z[\"F [kHz] V_B 55V\"], Y)\n",
    "K5 = cut_0(Z[\"F [kHz] V_B 55_5V\"], Y)\n",
    "K6 = cut_0(Z[\"F [kHz] V_B 56V\"], Y)\n",
    "\n",
    "print(K1[1])\n",
    "\n",
    "graph(K1[0], K1[1], K2[0], K2[1], K3[0], K3[1], K4[0], K4[1], K5[0], K5[1], K6[0], K6[1])"
   ]
  }
 ],
 "metadata": {
  "kernelspec": {
   "display_name": "Python 3",
   "language": "python",
   "name": "python3"
  },
  "language_info": {
   "codemirror_mode": {
    "name": "ipython",
    "version": 3
   },
   "file_extension": ".py",
   "mimetype": "text/x-python",
   "name": "python",
   "nbconvert_exporter": "python",
   "pygments_lexer": "ipython3",
   "version": "3.12.4"
  }
 },
 "nbformat": 4,
 "nbformat_minor": 5
}
