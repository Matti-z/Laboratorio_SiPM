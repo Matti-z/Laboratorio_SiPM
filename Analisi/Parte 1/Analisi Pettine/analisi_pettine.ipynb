{
 "cells": [
  {
   "cell_type": "markdown",
   "metadata": {},
   "source": [
    "# Analisi del grafico a pettine"
   ]
  },
  {
   "cell_type": "markdown",
   "metadata": {},
   "source": [
    "## Boring Setup"
   ]
  },
  {
   "cell_type": "code",
   "execution_count": null,
   "metadata": {},
   "outputs": [],
   "source": [
    "import numpy as np\n",
    "import pandas as pd\n",
    "import matplotlib.pyplot as plt\n",
    "import scipy.stats as stats\n",
    "\n",
    "# Cambiare directory per spostarsi nella cartella principale\n",
    "import os\n",
    "while not os.getcwd().endswith('Laboratorio_SiPM'):\n",
    "    os.chdir('..')\n",
    "\n",
    "import sys\n",
    "sys.path.append('Config')\n",
    "from lablib import *"
   ]
  },
  {
   "cell_type": "markdown",
   "metadata": {},
   "source": [
    "### Funzioni utili"
   ]
  },
  {
   "cell_type": "code",
   "execution_count": null,
   "metadata": {},
   "outputs": [],
   "source": [
    "def crop_df(df: pd.DataFrame, N: int, thr = 0) -> pd.DataFrame:\n",
    "    \"\"\"\n",
    "    Remove groups of consecutive numbers under the threshold from the DataFrame.\n",
    "    \"\"\"\n",
    "    is_zero = df.iloc[:,1] <= thr\n",
    "    group_id = (is_zero != is_zero.shift()).cumsum()\n",
    "    removal_mask = pd.Series(False, index=df.index)\n",
    "    for grp, group_indices in df.groupby(group_id).groups.items():\n",
    "        if is_zero.loc[group_indices[0]] and len(group_indices) > N:\n",
    "            removal_mask.loc[group_indices] = True\n",
    "    return df[~removal_mask].copy()\n",
    "\n",
    "def cut_df(df: pd.DataFrame, sec: tuple) -> pd.DataFrame:\n",
    "    \"\"\"\n",
    "    Rimuove i dati al di fuori del range definito da sec.\n",
    "    \"\"\"\n",
    "    return df[(df.iloc[:,0] >= sec[0]) & (df.iloc[:,0] <= sec[1])].copy()\n",
    "\n",
    "def assign_errors(df: pd.DataFrame, lim = 30) -> np.ndarray:\n",
    "    \"\"\"\n",
    "    Assegna un errore a ciascun valore in base al valore stesso.\n",
    "    L'errore è considerato gaussiano se ci sono abbastanza eventi.\n",
    "    Se il numero di eventi è minore di lim, va riconsiderato.\n",
    "    \"\"\"\n",
    "    ys = list(df.iloc[:,1])\n",
    "    tot = np.sum(ys)\n",
    "    ers = np.zeros(len(df))\n",
    "\n",
    "    i = 0\n",
    "    for y in ys:\n",
    "        if y > lim: # type: ignore\n",
    "            ers[i] = np.sqrt(y) # type: ignore\n",
    "        else:\n",
    "            ers[i] = np.sqrt(lim) \n",
    "            #ers[i] = np.sqrt(y * y/tot * (1 - y/tot)) # FIXME\n",
    "        i += 1\n",
    "\n",
    "    return ers\n",
    "\n",
    "def six_gauss_plus_backgrd(x, mu1, mu2, mu3, mu4, mu5, mu6, \n",
    "                           sig1, sig2, sig3, sig4, sig5, sig6,\n",
    "                           scale1, scale2, scale3, scale4, scale5, scale6, \n",
    "                           bkg_mu, bkg_sigma, bkg_scale):\n",
    "    \n",
    "    return (scale1*stats.norm.pdf(x, mu1, sig1) +\n",
    "            scale2*stats.norm.pdf(x, mu2, sig2) +\n",
    "            scale3*stats.norm.pdf(x, mu3, sig3) +\n",
    "            scale4*stats.norm.pdf(x, mu4, sig4) +\n",
    "            scale5*stats.norm.pdf(x, mu5, sig5) +\n",
    "            scale6*stats.norm.pdf(x, mu6, sig6)) + \\\n",
    "            (bkg_scale * stats.norm.pdf(x, bkg_mu, bkg_sigma))\n",
    "\n",
    "def eight_gauss_plus_backgrd(x, mu1, mu2, mu3, mu4, mu5, mu6, mu7, mu8,\n",
    "                            sig1, sig2, sig3, sig4, sig5, sig6, sig7, sig8,\n",
    "                            scale1, scale2, scale3, scale4, scale5, scale6, scale7, scale8,\n",
    "                            bkg_mu, bkg_sigma, bkg_scale):\n",
    "    \n",
    "    return (scale1*stats.norm.pdf(x, mu1, sig1) +\n",
    "                scale2*stats.norm.pdf(x, mu2, sig2) +\n",
    "                scale3*stats.norm.pdf(x, mu3, sig3) +\n",
    "                scale4*stats.norm.pdf(x, mu4, sig4) +\n",
    "                scale5*stats.norm.pdf(x, mu5, sig5) +\n",
    "                scale6*stats.norm.pdf(x, mu6, sig6) +\n",
    "                scale7*stats.norm.pdf(x, mu7, sig7) +\n",
    "                scale8*stats.norm.pdf(x, mu8, sig8)) + \\\n",
    "                (bkg_scale * stats.norm.pdf(x, bkg_mu, bkg_sigma))\n",
    "\n",
    "def nine_gauss_plus_backgrd(x, mu1, mu2, mu3, mu4, mu5, mu6, mu7, mu8, mu9,\n",
    "                            sig1, sig2, sig3, sig4, sig5, sig6, sig7, sig8, sig9,\n",
    "                            scale1, scale2, scale3, scale4, scale5, scale6, scale7, scale8, scale9,\n",
    "                            bkg_mu, bkg_sigma, bkg_scale):\n",
    "    \n",
    "    return (scale1*stats.norm.pdf(x, mu1, sig1) +\n",
    "                scale2*stats.norm.pdf(x, mu2, sig2) +\n",
    "                scale3*stats.norm.pdf(x, mu3, sig3) +\n",
    "                scale4*stats.norm.pdf(x, mu4, sig4) +\n",
    "                scale5*stats.norm.pdf(x, mu5, sig5) +\n",
    "                scale6*stats.norm.pdf(x, mu6, sig6) +\n",
    "                scale7*stats.norm.pdf(x, mu7, sig7) +\n",
    "                scale8*stats.norm.pdf(x, mu8, sig8) +\n",
    "                scale9*stats.norm.pdf(x, mu9, sig9)) + \\\n",
    "                (bkg_scale * stats.norm.pdf(x, bkg_mu, bkg_sigma))\n",
    "\n",
    "def calculate_distances(vals: list[float], ers: list[float]) -> tuple[list[float], list[float]]:\n",
    "    distances = []\n",
    "    errors = []\n",
    "    for i in range(len(vals)-1):\n",
    "        distances.append(vals[i+1] - vals[i])\n",
    "\n",
    "        # per calcolare l'errore della distanza, sommiamo gli errori in quadratura\n",
    "        # che in questo caso corrisponde alla formula generale di propagazione degli errori\n",
    "        errors.append(np.sqrt(ers[i]**2 + ers[i+1]**2))\n",
    "\n",
    "    return distances, errors\n",
    "\n",
    "def media_pesata(vals: list[float], ers: list[float]) -> tuple[float, float]:\n",
    "    \"\"\"\n",
    "    Calcola la media pesata di una lista di valori con i rispettivi errori.\n",
    "    Ritorna anche l'errore sulla media.\n",
    "    \"\"\"\n",
    "    if len(vals) != len(ers):\n",
    "        raise ValueError(\"Le liste dei valori e degli errori devono avere la stessa lunghezza.\")\n",
    "    \n",
    "    weights = [1/(e**2) for e in ers]\n",
    "    weighted_sum = sum(v * w for v, w in zip(vals, weights))\n",
    "    total_weight = sum(weights)\n",
    "    \n",
    "    media = weighted_sum / total_weight if total_weight != 0 else 0.0\n",
    "    errore = np.sqrt(1/total_weight) if total_weight != 0 else 0.0\n",
    "    return media, errore"
   ]
  },
  {
   "cell_type": "code",
   "execution_count": null,
   "metadata": {},
   "outputs": [],
   "source": [
    "pettine53 = pd.read_csv('Dati/Parte 1/Gain_V/File csv (corretti)/pettine_dark_count_v53.csv')\n",
    "pettine53_5 = pd.read_csv('Dati/Parte 1/Gain_V/File csv (corretti)/pettine_dark_count_v53_5.csv')\n",
    "pettine54 = pd.read_csv('Dati/Parte 1/Gain_V/File csv (corretti)/pettine_dark_count_v54.csv')\n",
    "pettine54_5 = pd.read_csv('Dati/Parte 1/Gain_V/File csv (corretti)/pettine_dark_count_v54_5.csv')\n",
    "pettine55_5 = pd.read_csv('Dati/Parte 1/Gain_V/File csv (corretti)/pettine_dark_count_v55_5.csv')\n",
    "\n",
    "thr_noise = 5\n",
    "thr_sequence = 10\n",
    "thr_errors = 30\n",
    "\n",
    "p53 = crop_df(pettine53, thr_sequence, thr_noise) # valore di 5 arbitrario\n",
    "p53_5 = crop_df(pettine53_5, thr_sequence, thr_noise)\n",
    "p54 = crop_df(pettine54, thr_sequence, thr_noise)\n",
    "p54_5 = crop_df(pettine54_5, thr_sequence, thr_noise)\n",
    "p55_5 = crop_df(pettine55_5, thr_sequence, thr_noise)\n",
    "\n",
    "p53_err = assign_errors(p53, thr_errors)\n",
    "p53_5_err = assign_errors(p53_5, thr_errors)\n",
    "p54_err = assign_errors(p54, thr_errors)\n",
    "p54_5_err = assign_errors(p54_5, thr_errors)\n",
    "p55_5_err = assign_errors(p55_5, thr_errors)"
   ]
  },
  {
   "cell_type": "markdown",
   "metadata": {},
   "source": [
    "## Estrazione Dati"
   ]
  },
  {
   "cell_type": "code",
   "execution_count": null,
   "metadata": {},
   "outputs": [],
   "source": [
    "# commentare quelle che non servono\n",
    "\n",
    "# plt.plot(p53.iloc[:,0], p53.iloc[:,1], label='pettine53', color='blue')\n",
    "# plt.errorbar(p53.iloc[:,0], p53.iloc[:,1], yerr=p53_err, fmt='o', color='red', markersize=2, label='pettine53 error')\n",
    "\n",
    "fig, ax = plt.subplots(figsize=(10, 6))\n",
    "\n",
    "# Pettine 53V\n",
    "ax.plot(p53.iloc[:,0], p53.iloc[:,1], label='53V', color='blue')\n",
    "ax.fill_between(p53.iloc[:,0], p53.iloc[:,1], alpha=0.2, color='blue')\n",
    "\n",
    "# Pettine 53.5V\n",
    "ax.plot(p53_5.iloc[:,0], p53_5.iloc[:,1], label='53.5V', color='cyan')\n",
    "ax.fill_between(p53_5.iloc[:,0], p53_5.iloc[:,1], alpha=0.2, color='cyan')\n",
    "\n",
    "# Pettine 54V\n",
    "ax.plot(p54.iloc[:,0], p54.iloc[:,1], label='54V', color='red')\n",
    "ax.fill_between(p54.iloc[:,0], p54.iloc[:,1], alpha=0.2, color='red')\n",
    "\n",
    "# Pettine 54.5V\n",
    "ax.plot(p54_5.iloc[:,0], p54_5.iloc[:,1], label='54.5V', color='orange')\n",
    "ax.fill_between(p54_5.iloc[:,0], p54_5.iloc[:,1], alpha=0.2, color='orange')\n",
    "\n",
    "# Pettine 55.5V\n",
    "ax.plot(p55_5.iloc[:,0], p55_5.iloc[:,1], label='55.5V', color='purple')\n",
    "ax.fill_between(p55_5.iloc[:,0], p55_5.iloc[:,1], alpha=0.2, color='purple')\n",
    "\n",
    "ax.set_xlabel('ADC channels')\n",
    "ax.set_ylabel('Conteggi')\n",
    "# ax.set_title('Conteggi in funzione dei canali ADC')\n",
    "ax.legend()\n",
    "plt.show()"
   ]
  },
  {
   "cell_type": "markdown",
   "metadata": {},
   "source": [
    "### Analisi pettine 53 V"
   ]
  },
  {
   "cell_type": "code",
   "execution_count": null,
   "metadata": {},
   "outputs": [],
   "source": [
    "par53, val53, err53, pval53, dof53, qsq53, *other = LS_fit(p53.iloc[:,0], p53.iloc[:,1], p53_err, six_gauss_plus_backgrd, \n",
    "                                       mu1=0, mu2=30, mu3=60, mu4=90, mu5=130, mu6=160,\n",
    "                                       scale1=1e3, scale2=1e4, scale3=1e4, scale4=1e4, scale5=1e4, scale6=5e3,\n",
    "                                       sig1=10, sig2=10, sig3=10, sig4=10, sig5=10, sig6=10,\n",
    "                                       bkg_mu=100, bkg_sigma=100, bkg_scale=10000,\n",
    "                                       disp=0)\n",
    "\n",
    "if 0: # solo per non farlo uscire sempre\n",
    "    for i in range(len(par53)):\n",
    "        print(f\"parametro {par53[i]}: {val53[i]:.5g} ± {err53[i]:.5g}\")\n",
    "\n",
    "    print(\"----------\")\n",
    "\n",
    "    print(f\"chi2 ridotto: {qsq53/dof53:.5g}\")\n",
    "    print(f\"p-value: {pval53:.5g}\")"
   ]
  },
  {
   "cell_type": "code",
   "execution_count": null,
   "metadata": {},
   "outputs": [],
   "source": [
    "peaks53 = val53[:6]\n",
    "unc53 = val53[6:12]\n",
    "\n",
    "# dist53, dist_err53 = calculate_distances(peaks53, err53) # usando errori del fit\n",
    "dist53, dist_err53 = calculate_distances(peaks53, unc53) # usando errori delle gaussiane\n",
    "\n",
    "print(\"Distanze pettine53:\")\n",
    "for i in range(len(dist53)):\n",
    "    print(f\" distanza {i+1}: {dist53[i]:.5g} ± {dist_err53[i]:.5g}\")\n",
    "print(\"----------\")\n",
    "\n",
    "dist53_mean = np.mean(dist53)\n",
    "# dist53_std = np.sqrt(np.sum([i**2 for i in dist_err53])) / len(dist_err53) # errore medio\n",
    "# dist53_std = np.sqrt(np.sum([i**2 for i in dist_err53]) / len(dist_err53)) # modificato per aumentare\n",
    "dist53_mean, dist53_std = media_pesata(dist53, dist_err53) # usando la media pesata\n",
    "\n",
    "print(f\"Distanza media pettine 53v: {dist53_mean:.5g} ± {dist53_std:.5g}\")"
   ]
  },
  {
   "cell_type": "code",
   "execution_count": null,
   "metadata": {},
   "outputs": [],
   "source": [
    "fig, ax = plt.subplots(figsize=(10, 6))\n",
    "\n",
    "# Dati sperimentali con errore\n",
    "ax.errorbar(p53.iloc[:,0], p53.iloc[:,1], yerr=p53_err, fmt='o', color='blue', markersize=2, label='Dati 53V')\n",
    "\n",
    "# Curva del fit\n",
    "x_fit = np.linspace(p53.iloc[:,0].min(), p53.iloc[:,0].max(), 1000)\n",
    "y_fit = six_gauss_plus_backgrd(x_fit, *val53)\n",
    "ax.plot(x_fit, y_fit, color='red', label='Fit 53V')\n",
    "\n",
    "ax.set_xlabel('ADC channels')\n",
    "ax.set_ylabel('Conteggi')\n",
    "ax.legend()\n",
    "plt.show()"
   ]
  },
  {
   "cell_type": "markdown",
   "metadata": {},
   "source": [
    "### Analisi Pettine 53.5 V"
   ]
  },
  {
   "cell_type": "code",
   "execution_count": null,
   "metadata": {},
   "outputs": [],
   "source": [
    "par53_5, val53_5, err53_5, pval53_5, dof53_5, qsq53_5, *other = LS_fit(p53_5.iloc[:,0], p53_5.iloc[:,1], p53_5_err, eight_gauss_plus_backgrd,\n",
    "                                                                        mu1=50, mu2=100, mu3=150, mu4=200, \n",
    "                                                                        mu5=250, mu6=330, mu7=380, mu8=430,\n",
    "                                                                        \n",
    "                                                                        scale1=1e4, scale2=1e4, scale3=1e4, scale4=1e4, \n",
    "                                                                        scale5=1e4, scale6=1e4, scale7=1e3, scale8=1e3,\n",
    "\n",
    "                                                                        sig1=10, sig2=10, sig3=10, sig4=10, \n",
    "                                                                        sig5=10, sig6=10, sig7=10, sig8=10,\n",
    "\n",
    "                                                                        bkg_mu=100, bkg_sigma=100, bkg_scale=10000,\n",
    "                                                                        disp=0)\n",
    "\n",
    "if 0:\n",
    "    for i in range(len(par53_5)):\n",
    "        print(f\"parametro {par53_5[i]}: {val53_5[i]:.5g} ± {err53_5[i]:.5g}\")\n",
    "\n",
    "    print(\"----------\")\n",
    "    print(f\"chi2 ridotto: {qsq53_5/dof53_5:.5g}\")\n",
    "    print(f\"p-value: {pval53_5:.5g}\")"
   ]
  },
  {
   "cell_type": "code",
   "execution_count": null,
   "metadata": {},
   "outputs": [],
   "source": [
    "peaks53_5 = val53_5[:8]\n",
    "unc53 = val53_5[8:16]\n",
    "\n",
    "# dist53_5, dist_err53_5 = calculate_distances(peaks53_5, err53_5)\n",
    "dist53_5, dist_err53_5 = calculate_distances(peaks53_5, unc53)\n",
    "\n",
    "dist53_5_mean = np.mean(dist53_5)\n",
    "\n",
    "# dist53_5_std = np.sqrt(np.sum([i**2 for i in dist_err53_5])) / len(dist_err53_5)\n",
    "# dist53_5_std = np.sqrt(np.sum([i**2 for i in dist_err53_5]) / len(dist_err53_5))\n",
    "dist53_5_mean, dist53_5_std = media_pesata(dist53_5, dist_err53_5)\n",
    "\n",
    "print(f\"Distanza media pettine 53.5v: {dist53_5_mean:.5g} ± {dist53_5_std:.5g}\")"
   ]
  },
  {
   "cell_type": "markdown",
   "metadata": {},
   "source": [
    "### Analisi Pettine 54 V"
   ]
  },
  {
   "cell_type": "code",
   "execution_count": null,
   "metadata": {},
   "outputs": [],
   "source": [
    "par54, val54, err54, pval54, dof54, qsq54, *other = LS_fit(p54.iloc[:,0], p54.iloc[:,1], p54_err, nine_gauss_plus_backgrd,\n",
    "                                                          mu1=180, mu2=260, mu3=340, mu4=420, mu5=500, \n",
    "                                                          mu6=580, mu7= 660, mu8=740, mu9=820,\n",
    "\n",
    "                                                          scale1=1e4, scale2=1e4, scale3=1e4, scale4=1e4, scale5=1e4, \n",
    "                                                          scale6=1e4, scale7=1e4, scale8=1e4, scale9=1e4,\n",
    "\n",
    "                                                          sig1=10, sig2=10, sig3=10, sig4=10, sig5=10, \n",
    "                                                          sig6=10, sig7=10, sig8=10, sig9=10,\n",
    "                                                          \n",
    "                                                          bkg_mu=500, bkg_sigma=500, bkg_scale=1000,\n",
    "                                                          disp=0)\n",
    "\n",
    "if 0:\n",
    "    for i in range(len(par54)):\n",
    "        print(f\"parametro {par54[i]}: {val54[i]:.5g} ± {err54[i]:.5g}\")\n",
    "\n",
    "    print(\"----------\")\n",
    "    print(f\"chi2 ridotto: {qsq54/dof54:.5g}\")\n",
    "    print(f\"p-value: {pval54:.5g}\")"
   ]
  },
  {
   "cell_type": "code",
   "execution_count": null,
   "metadata": {},
   "outputs": [],
   "source": [
    "peaks54 = val54[:9]\n",
    "unc54 = val54[9:18]\n",
    "\n",
    "# dist54, dist_err54 = calculate_distances(peaks54, err54)\n",
    "dist54, dist_err54 = calculate_distances(peaks54, unc54)\n",
    "\n",
    "dist54_mean = np.mean(dist54)\n",
    "\n",
    "# dist54_std = np.sqrt(np.sum([i**2 for i in dist_err54])) / len(dist_err54)\n",
    "# dist54_std = np.sqrt(np.sum([i**2 for i in dist_err54]) / len(dist_err54))\n",
    "dist54_mean, dist54_std = media_pesata(dist54, dist_err54)\n",
    "\n",
    "print(f\"Distanza media pettine 54v: {dist54_mean:.5g} ± {dist54_std:.5g}\")"
   ]
  },
  {
   "cell_type": "markdown",
   "metadata": {},
   "source": [
    "### Analisi Pettine 54.5 V"
   ]
  },
  {
   "cell_type": "code",
   "execution_count": null,
   "metadata": {},
   "outputs": [],
   "source": [
    "par54_5, val54_5, err54_5, pval54_5, dof54_5, qsq54_5, *other = LS_fit(p54_5.iloc[:,0], p54_5.iloc[:,1], p54_5_err, nine_gauss_plus_backgrd,\n",
    "                                                            mu1=200, mu2=320, mu3=440, mu4=560, mu5=680, \n",
    "                                                            mu6=770, mu7= 860, mu8=950, mu9=1050,\n",
    "    \n",
    "                                                            scale1=1e4, scale2=1e4, scale3=1e4, scale4=1e4, scale5=1e4, \n",
    "                                                            scale6=1e4, scale7=1e4, scale8=1e4, scale9=1e4,\n",
    "    \n",
    "                                                            sig1=10, sig2=10, sig3=10, sig4=10, sig5=10, \n",
    "                                                            sig6=10, sig7=10, sig8=10, sig9=10,\n",
    "                                                            \n",
    "                                                            bkg_mu=800, bkg_sigma=500, bkg_scale=1000,\n",
    "                                                            disp = 0)\n",
    "\n",
    "if 0:\n",
    "    for i in range(len(par54_5)):\n",
    "        print(f\"parametro {par54_5[i]}: {val54_5[i]:.5g} ± {err54_5[i]:.5g}\")\n",
    "\n",
    "    print(\"----------\")\n",
    "    print(f\"chi2 ridotto: {qsq54_5/dof54_5:.5g}\")\n",
    "    print(f\"p-value: {pval54_5:.5g}\")"
   ]
  },
  {
   "cell_type": "code",
   "execution_count": null,
   "metadata": {},
   "outputs": [],
   "source": [
    "peaks54_5 = val54_5[:9]\n",
    "unc54_5 = val54_5[9:18]\n",
    "\n",
    "# dist54_5, dist_err54_5 = calculate_distances(peaks54_5, err54_5)\n",
    "dist54_5, dist_err54_5 = calculate_distances(peaks54_5, unc54_5)\n",
    "\n",
    "dist54_5_mean = np.mean(dist54_5)\n",
    "\n",
    "# dist54_5_std = np.sqrt(np.sum([i**2 for i in dist_err54_5])) / len(dist_err54_5)\n",
    "# dist54_5_std = np.sqrt(np.sum([i**2 for i in dist_err54_5]) / len(dist_err54_5))\n",
    "dist54_5_mean, dist54_5_std = media_pesata(dist54_5, dist_err54_5)\n",
    "\n",
    "print(f\"Distanza media pettine 54.5v: {dist54_5_mean:.5g} ± {dist54_5_std:.5g}\")"
   ]
  },
  {
   "cell_type": "markdown",
   "metadata": {},
   "source": [
    "### Analisi Pettine 55.5V"
   ]
  },
  {
   "cell_type": "code",
   "execution_count": null,
   "metadata": {},
   "outputs": [],
   "source": [
    "par55_5, val55_5, err55_5, pval55_5, dof55_5, qsq55_5, *other = LS_fit(p55_5.iloc[:,0], p55_5.iloc[:,1], p55_5_err, nine_gauss_plus_backgrd,\n",
    "                                                            mu1=450, mu2=600, mu3=750, mu4=900, mu5=1050, \n",
    "                                                            mu6=1200, mu7= 1350, mu8=1500, mu9=1650,\n",
    "    \n",
    "                                                            scale1=1e3, scale2=1e3, scale3=1e3, scale4=1e3, scale5=1e3, \n",
    "                                                            scale6=1e3, scale7=1e3, scale8=1e3, scale9=1e3,\n",
    "    \n",
    "                                                            sig1=20, sig2=20, sig3=20, sig4=20, sig5=20, \n",
    "                                                            sig6=20, sig7=20, sig8=20, sig9=20,\n",
    "                                                            \n",
    "                                                            bkg_mu=1300, bkg_sigma=1000, bkg_scale=10000,\n",
    "                                                            disp = 0)\n",
    "\n",
    "if 0:\n",
    "    for i in range(len(par55_5)):\n",
    "        print(f\"parametro {par55_5[i]}: {val55_5[i]:.5g} ± {err55_5[i]:.5g}\")\n",
    "\n",
    "    print(\"----------\")\n",
    "    print(f\"chi2 ridotto: {qsq55_5/dof55_5:.5g}\")\n",
    "    print(f\"p-value: {pval55_5:.5g}\")"
   ]
  },
  {
   "cell_type": "markdown",
   "metadata": {},
   "source": [
    "__Osservazione__\n",
    "\n",
    "Con background scale 1000, il programma riesce a fittare ma non sembra che esca bene. \\\n",
    "Con scale 10000, il programma non fitta, ma ad occhio esce meglio"
   ]
  },
  {
   "cell_type": "code",
   "execution_count": null,
   "metadata": {},
   "outputs": [],
   "source": [
    "peaks55_5 = val55_5[:9]\n",
    "unc55_5 = val55_5[9:18]\n",
    "\n",
    "# dist55_5, dist_err55_5 = calculate_distances(peaks55_5, err55_5)\n",
    "dist55_5, dist_err55_5 = calculate_distances(peaks55_5, unc55_5)\n",
    "\n",
    "dist55_5_mean = np.mean(dist55_5)\n",
    "\n",
    "# dist55_5_std = np.sqrt(np.sum([i**2 for i in dist_err55_5])) / len(dist_err55_5)\n",
    "# dist55_5_std = np.sqrt(np.sum([i**2 for i in dist_err55_5]) / len(dist_err55_5))\n",
    "dist55_5_mean, dist55_5_std = media_pesata(dist55_5, dist_err55_5)\n",
    "\n",
    "print(f\"Distanza media pettine 55.5v: {dist55_5_mean:.5g} ± {dist55_5_std:.5g}\")"
   ]
  },
  {
   "cell_type": "markdown",
   "metadata": {},
   "source": [
    "## Analisi Risultati"
   ]
  },
  {
   "cell_type": "code",
   "execution_count": null,
   "metadata": {},
   "outputs": [],
   "source": [
    "peaks = [dist53_mean, dist53_5_mean, dist54_mean, dist54_5_mean, dist55_5_mean]\n",
    "peaks_err = [dist53_std, dist53_5_std, dist54_std, dist54_5_std, dist55_5_std]\n",
    "\n",
    "print(\"Distanze medie dei pettini:\")\n",
    "for i in range(len(peaks)):\n",
    "    print(f\"{53 + i*0.5}v: {peaks[i]:.5g} ± {peaks_err[i]:.5g}\")"
   ]
  },
  {
   "cell_type": "code",
   "execution_count": null,
   "metadata": {},
   "outputs": [],
   "source": [
    "linear = lambda x, a, b: a*x + b\n",
    "data_x = [53, 53.5, 54, 54.5, 55.5]\n",
    "\n",
    "par_lin, val_lin, err_lin, pval_lin, *other = LS_fit(data_x, peaks, peaks_err, linear, a=1, b=0, disp=1)\n",
    "print(f\"P-value: {pval_lin:.3e}\")"
   ]
  },
  {
   "cell_type": "markdown",
   "metadata": {},
   "source": [
    "<span style=\"color:red\">**Osservazione**</span> \n",
    "\n",
    "Il fit seguente è della sezione Gain vs $V_{bias}$, per ottenerlo basta dividere per $e$"
   ]
  },
  {
   "cell_type": "code",
   "execution_count": null,
   "metadata": {},
   "outputs": [],
   "source": [
    "# Plotting the results\n",
    "\n",
    "\n",
    "plt.errorbar(data_x, peaks, yerr=peaks_err, fmt='o', color='blue', markersize=2, label='Distanze medie')\n",
    "plt.plot(data_x, linear(np.array(data_x), *val_lin), color='red', linestyle='--', label='Fit lineare')\n",
    "\n",
    "plt.xlabel('Tensione [V]')\n",
    "plt.ylabel('Distanza media [ADC channels]')\n",
    "\n",
    "plt.legend()\n",
    "plt.show()"
   ]
  },
  {
   "cell_type": "code",
   "execution_count": null,
   "metadata": {},
   "outputs": [],
   "source": [
    "# Calcolo dell'intercetta\n",
    "\n",
    "V_b = -val_lin[1] / val_lin[0]\n",
    "V_b_err = np.sqrt((err_lin[1] / val_lin[0])**2 + (val_lin[1] * err_lin[0] / val_lin[0]**2)**2)\n",
    "print(f\"V_b (tensione di breakdown): {V_b:.3g} ± {V_b_err:.3g} V\")"
   ]
  },
  {
   "cell_type": "markdown",
   "metadata": {},
   "source": [
    "__Promemoria__\n",
    "\n",
    "* Abbiamo usato le sigma delle gaussiane e per calcolare la media delle distanze e il suo errore abbiamo fatto la media pesata di ogni distanza per il relativo errore\n",
    "\n",
    "   * Con questo metodo esce il risultato sopra\n",
    "\n",
    "* Se avessimo usato gli errori del fit, avremmo ottenuto un Chi^2 di 800 (sottostimati errori), ma l'errore sul V_b finale sarebbe stato 0.06 circa\n",
    "\n",
    "* <span style=\"color:red\">**Dubbio grosso**</span> puo' essere che la pendenza della retta sia il Gain?"
   ]
  },
  {
   "cell_type": "markdown",
   "metadata": {},
   "source": [
    "# ADC_Factor"
   ]
  },
  {
   "cell_type": "code",
   "execution_count": null,
   "metadata": {},
   "outputs": [],
   "source": [
    "def ADC_factor():\n",
    "    return (2/50)*(1/2**12)*(4e-9)*1/25 "
   ]
  },
  {
   "cell_type": "code",
   "execution_count": null,
   "metadata": {},
   "outputs": [],
   "source": [
    "Dist_MeV = [ peaks[i] * ADC_factor() /1.6e-13 for i in range(len(peaks)) ]\n",
    "Dist_MeV_err = [ peaks_err[i] * ADC_factor() /1.6e-13 for i in range(len(peaks)) ]\n",
    "\n",
    "plt.plot(data_x, Dist_MeV, 'o', color='blue', label='Distanze medie')\n",
    "plt.errorbar(data_x, Dist_MeV, yerr=Dist_MeV_err,fmt = '|', color='m', label='Errore')\n",
    "plt.xlabel('Tensione [V]')\n",
    "plt.ylabel('Distanza media [C]')\n",
    "plt.title('Distanza in Coulomb in funzione della tensione')\n",
    "plt.legend()\n",
    "plt.show()"
   ]
  },
  {
   "cell_type": "markdown",
   "metadata": {},
   "source": [
    "## Gain\n"
   ]
  },
  {
   "cell_type": "code",
   "execution_count": null,
   "metadata": {},
   "outputs": [],
   "source": [
    "# Calcolo del guadagno del SiPM\n",
    "print(f\"Gain del SiPM: {ADC_factor()/1.6e-19:.3e}\")"
   ]
  },
  {
   "cell_type": "markdown",
   "metadata": {},
   "source": [
    "# Conclusioni\n",
    "\n",
    "Abbiamo verificato l'andamento lineare tra il guadagno e la tensione, abbiamo calcolato l'ADC factor per convertire gli adc in carica.\n",
    "\n",
    "Per trovare il $G_{psau}$ al variare della tensione, basta fare $\\Delta pp \\cdot \\frac{ADC_{factor}}{e}$, che alla fine è solo un fattore moltiplicativo quindi il grafico è lo stesso. In totale possiamo paragonare il risultato ottenuto con quello dichiarato dal produttore ad una data tensione."
   ]
  }
 ],
 "metadata": {
  "kernelspec": {
   "display_name": "Python 3",
   "language": "python",
   "name": "python3"
  },
  "language_info": {
   "codemirror_mode": {
    "name": "ipython",
    "version": 3
   },
   "file_extension": ".py",
   "mimetype": "text/x-python",
   "name": "python",
   "nbconvert_exporter": "python",
   "pygments_lexer": "ipython3",
   "version": "3.11.1"
  }
 },
 "nbformat": 4,
 "nbformat_minor": 2
}
