{
 "cells": [
  {
   "cell_type": "code",
   "execution_count": null,
   "id": "0",
   "metadata": {},
   "outputs": [],
   "source": [
    "import numpy as np\n",
    "import pandas as pd\n",
    "import matplotlib.pyplot as plt\n",
    "import math\n",
    "from scipy.stats import chi2, norm, cauchy\n",
    "from iminuit import Minuit\n",
    "from iminuit.cost import LeastSquares\n",
    "# Cambiare directory per spostarsi nella cartella principale\n",
    "import os\n",
    "while not os.getcwd().endswith('Laboratorio_SiPM'):\n",
    "    os.chdir('..')\n",
    "\n",
    "import sys\n",
    "sys.path.append('Config')\n",
    "from lablib import *\n"
   ]
  },
  {
   "cell_type": "code",
   "execution_count": null,
   "id": "1",
   "metadata": {},
   "outputs": [],
   "source": [
    "Na_L_1 = 0.3231\n",
    "Co_L = 0.3877784044468422\n",
    "Na_C_1 = 0.1688552953715196\n",
    "Co_C = 0.22416334513568562\n",
    "Na_B_1 = 0.21577 \n",
    "Na_B_2 = 0.12787\n",
    "Co_B = 1.0115751908967145"
   ]
  },
  {
   "cell_type": "code",
   "execution_count": null,
   "id": "2",
   "metadata": {},
   "outputs": [],
   "source": [
    "fig, ax = plt.subplots(1, 1, figsize=(30, 6))\n",
    "plt.plot((122, 511), (Co_L, Na_L_1), color = 'blue', label = 'LySO', marker = 'o',)\n",
    "plt.plot((122, 511), (Co_C, Na_C_1), color = 'red', label = 'CsI', marker = 'o')\n",
    "plt.plot((122, 511, 1275), (Co_B, Na_B_1, Na_B_2), color = 'green', label = 'BGO', marker = 'o')\n",
    "plt.xlabel('ADC channels')\n",
    "plt.ylabel('Risoluzione')\n",
    "plt.grid()\n",
    "plt.legend()"
   ]
  }
 ],
 "metadata": {
  "kernelspec": {
   "display_name": "Python 3",
   "language": "python",
   "name": "python3"
  },
  "language_info": {
   "codemirror_mode": {
    "name": "ipython",
    "version": 3
   },
   "file_extension": ".py",
   "mimetype": "text/x-python",
   "name": "python",
   "nbconvert_exporter": "python",
   "pygments_lexer": "ipython3",
   "version": "3.12.3"
  }
 },
 "nbformat": 4,
 "nbformat_minor": 5
}
