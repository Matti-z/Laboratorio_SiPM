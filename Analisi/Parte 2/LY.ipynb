{
 "cells": [
  {
   "cell_type": "code",
   "execution_count": 1,
   "id": "fd4cf6bd",
   "metadata": {},
   "outputs": [],
   "source": [
    "import numpy as np\n",
    "import pandas as pd\n",
    "import matplotlib.pyplot as plt\n",
    "import math\n",
    "from scipy.stats import chi2, norm, cauchy\n",
    "from iminuit import Minuit\n",
    "from iminuit.cost import LeastSquares\n",
    "# Cambiare directory per spostarsi nella cartella principale\n",
    "import os\n",
    "while not os.getcwd().endswith('Laboratorio_SiPM'):\n",
    "    os.chdir('..')\n",
    "\n",
    "import sys\n",
    "sys.path.append('Config')\n",
    "\n",
    "from lablib import *"
   ]
  },
  {
   "cell_type": "code",
   "execution_count": 2,
   "id": "92a1d2a9",
   "metadata": {},
   "outputs": [],
   "source": [
    "def prop_err_div(x, y, ex, ey):\n",
    "    \"\"\"\n",
    "    Propagazione dell'errore per divisione\n",
    "    :param x: valore di x\n",
    "    :param y: valore di y\n",
    "    :param ex: errore su x\n",
    "    :param ey: errore su y\n",
    "    :return: errore su x/y\n",
    "    \"\"\"\n",
    "    return np.sqrt(ex**2 + (x/y)**2 * ey**2) / y"
   ]
  },
  {
   "cell_type": "code",
   "execution_count": 4,
   "id": "e70ebd97",
   "metadata": {},
   "outputs": [
    {
     "name": "stdout",
     "output_type": "stream",
     "text": [
      "BGO/CsI = 0.13466781127072414 +- 0.017241978421370024\n",
      "Lyso/BGO = 3.161572768000874 +- 0.6426469849054584\n",
      "LySO/CsI = 0.4257620848398026 +- 0.07988841814911693\n"
     ]
    }
   ],
   "source": [
    "#primi picchi sodio\n",
    "#utilizzo _C per CsI, _L per LySO, _B per BGO\n",
    "Na_1_B = 3179.3068\n",
    "err_Na_1_B = 337.2397\n",
    "Na_1_C = 23608.5132\n",
    "err_Na_1_C = 1692.7483\n",
    "Na_1_L = 10051.6098\n",
    "err_Na_1_L = 1742.9149\n",
    "print('BGO/CsI =', Na_1_B/Na_1_C, '+-', prop_err_div(Na_1_B, Na_1_C, err_Na_1_B, err_Na_1_C))\n",
    "print('Lyso/BGO =', Na_1_L/Na_1_B, '+-', prop_err_div(Na_1_L, Na_1_B, err_Na_1_L, err_Na_1_B))\n",
    "print('LySO/CsI =', Na_1_L/Na_1_C, '+-', prop_err_div(Na_1_L, Na_1_C, err_Na_1_L, err_Na_1_C))"
   ]
  }
 ],
 "metadata": {
  "kernelspec": {
   "display_name": "Python 3",
   "language": "python",
   "name": "python3"
  },
  "language_info": {
   "codemirror_mode": {
    "name": "ipython",
    "version": 3
   },
   "file_extension": ".py",
   "mimetype": "text/x-python",
   "name": "python",
   "nbconvert_exporter": "python",
   "pygments_lexer": "ipython3",
   "version": "3.12.3"
  }
 },
 "nbformat": 4,
 "nbformat_minor": 5
}
