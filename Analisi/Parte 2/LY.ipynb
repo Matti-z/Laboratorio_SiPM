{
 "cells": [
  {
   "cell_type": "code",
   "execution_count": 11,
   "id": "0",
   "metadata": {},
   "outputs": [],
   "source": [
    "import numpy as np\n",
    "import pandas as pd\n",
    "import matplotlib.pyplot as plt\n",
    "from scipy.stats import chi2, norm, cauchy\n",
    "# Cambiare directory per spostarsi nella cartella principale\n",
    "import os\n",
    "while not os.getcwd().endswith('Laboratorio_SiPM'):\n",
    "    os.chdir('..')\n",
    "\n",
    "import sys\n",
    "sys.path.append('Config')\n",
    "\n",
    "from lablib import *"
   ]
  },
  {
   "cell_type": "code",
   "execution_count": 12,
   "id": "1",
   "metadata": {},
   "outputs": [],
   "source": [
    "def prop_err_div(x, y, ex, ey):\n",
    "    \"\"\"\n",
    "    Propagazione dell'errore per divisione\n",
    "    :param x: valore di x\n",
    "    :param y: valore di y\n",
    "    :param ex: errore su x\n",
    "    :param ey: errore su y\n",
    "    :return: errore su x/y\n",
    "    \"\"\"\n",
    "    return np.sqrt(ex**2 + (x/y)**2 * ey**2) / y"
   ]
  },
  {
   "cell_type": "code",
   "execution_count": 13,
   "id": "2",
   "metadata": {},
   "outputs": [
    {
     "name": "stdout",
     "output_type": "stream",
     "text": [
      "BGO/CsI = 0.135 +- 0.0172\n",
      "Lyso/BGO = 3.16 +- 0.643\n",
      "LySO/CsI = 0.426 +- 0.0799\n"
     ]
    }
   ],
   "source": [
    "#primi picchi sodio\n",
    "#utilizzo _C per CsI, _L per LySO, _B per BGO\n",
    "Na_1_B = 3179.3068\n",
    "err_Na_1_B = 337.2397\n",
    "Na_1_C = 23608.5132\n",
    "err_Na_1_C = 1692.7483\n",
    "Na_1_L = 10051.6098\n",
    "err_Na_1_L = 1742.9149\n",
    "print(f'BGO/CsI = {Na_1_B/Na_1_C:.3g} +- {prop_err_div(Na_1_B, Na_1_C, err_Na_1_B, err_Na_1_C):.3g}')\n",
    "print(f'Lyso/BGO = {Na_1_L/Na_1_B:.3g} +- {prop_err_div(Na_1_L, Na_1_B, err_Na_1_L, err_Na_1_B):.3g}')\n",
    "print(f'LySO/CsI = {Na_1_L/Na_1_C:.3g} +- {prop_err_div(Na_1_L, Na_1_C, err_Na_1_L, err_Na_1_C):.3g}')"
   ]
  },
  {
   "cell_type": "code",
   "execution_count": 16,
   "id": "c763914c",
   "metadata": {},
   "outputs": [
    {
     "name": "stdout",
     "output_type": "stream",
     "text": [
      "BGO/CsI = 0.0791 +- 0.0348\n",
      "Lyso/BGO = 6.09 +- 2.8\n",
      "LySO/CsI = 0.482 +- 0.0917\n"
     ]
    }
   ],
   "source": [
    "# LY con cobalto\n",
    "\n",
    "Co_1_L = 2550.0\n",
    "err_Co_1_L = 420\n",
    "Co_1_B = 418.45\n",
    "err_Co_1_B = 179.74\n",
    "Co_1_C = 5291\n",
    "err_Co_1_C = 504\n",
    "\n",
    "print(f'BGO/CsI = {Co_1_B/Co_1_C:.3g} +- {prop_err_div(Co_1_B, Co_1_C, err_Co_1_B, err_Co_1_C):.3g}')\n",
    "print(f'Lyso/BGO = {Co_1_L/Co_1_B:.3g} +- {prop_err_div(Co_1_L, Co_1_B, err_Co_1_L, err_Co_1_B):.3g}')\n",
    "print(f'LySO/CsI = {Co_1_L/Co_1_C:.3g} +- {prop_err_div(Co_1_L, Co_1_C, err_Co_1_L, err_Co_1_C):.3g}')"
   ]
  }
 ],
 "metadata": {
  "kernelspec": {
   "display_name": "Python 3",
   "language": "python",
   "name": "python3"
  },
  "language_info": {
   "codemirror_mode": {
    "name": "ipython",
    "version": 3
   },
   "file_extension": ".py",
   "mimetype": "text/x-python",
   "name": "python",
   "nbconvert_exporter": "python",
   "pygments_lexer": "ipython3",
   "version": "3.12.1"
  }
 },
 "nbformat": 4,
 "nbformat_minor": 5
}
