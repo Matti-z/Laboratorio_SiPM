{
 "cells": [
  {
   "cell_type": "code",
   "execution_count": 7,
   "id": "fd4cf6bd",
   "metadata": {},
   "outputs": [],
   "source": [
    "import numpy as np\n",
    "import pandas as pd\n",
    "import matplotlib.pyplot as plt\n",
    "import math\n",
    "from scipy.stats import chi2, norm, cauchy\n",
    "from iminuit import Minuit\n",
    "from iminuit.cost import LeastSquares\n",
    "# Cambiare directory per spostarsi nella cartella principale\n",
    "import os\n",
    "while not os.getcwd().endswith('Laboratorio_SiPM'):\n",
    "    os.chdir('..')\n",
    "\n",
    "import sys\n",
    "sys.path.append('Config')\n",
    "\n",
    "from lablib import *"
   ]
  },
  {
   "cell_type": "code",
   "execution_count": null,
   "id": "e70ebd97",
   "metadata": {},
   "outputs": [],
   "source": [
    "#primi picchi sodio\n",
    "#utilizzo _C per CsI, _L per LySO, _B per BGO\n",
    "Na_1_B = 3179.3068\n",
    "err_Na_1_B = 1.5431\n",
    "Na_1_C = 14054.4191\n",
    "err_Na_1_C = 8.8606\n"
   ]
  }
 ],
 "metadata": {
  "kernelspec": {
   "display_name": "Python 3",
   "language": "python",
   "name": "python3"
  },
  "language_info": {
   "codemirror_mode": {
    "name": "ipython",
    "version": 3
   },
   "file_extension": ".py",
   "mimetype": "text/x-python",
   "name": "python",
   "nbconvert_exporter": "python",
   "pygments_lexer": "ipython3",
   "version": "3.12.3"
  }
 },
 "nbformat": 4,
 "nbformat_minor": 5
}
