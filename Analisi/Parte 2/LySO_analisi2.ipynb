{
 "cells": [
  {
   "cell_type": "code",
   "execution_count": null,
   "id": "0",
   "metadata": {},
   "outputs": [],
   "source": [
    "import numpy as np\n",
    "import pandas as pd\n",
    "import matplotlib.pyplot as plt\n",
    "import math\n",
    "from scipy.stats import chi2, norm, cauchy\n",
    "from iminuit import Minuit\n",
    "from iminuit.cost import LeastSquares\n",
    "# Cambiare directory per spostarsi nella cartella principale\n",
    "import os\n",
    "while not os.getcwd().endswith('Laboratorio_SiPM'):\n",
    "    os.chdir('..')\n",
    "\n",
    "import sys\n",
    "sys.path.append('Config')\n",
    "from lablib import *"
   ]
  },
  {
   "cell_type": "markdown",
   "id": "1",
   "metadata": {},
   "source": [
    "# Sodio 30 min"
   ]
  },
  {
   "cell_type": "code",
   "execution_count": null,
   "id": "2",
   "metadata": {},
   "outputs": [],
   "source": [
    "df_bkg = read_corretto(path='Dati/Parte 2/LySO/Bkg_30min.txt', titles=['ADC', 'Counts'])\n",
    "df = read_corretto(path = 'Dati/Parte 2/LySO/Sodio_30min.txt', titles=['ADC', 'Counts'])\n",
    "df_nobkg = df[:] - df_bkg [:]\n",
    "df_nobkg['ADC'] = df['ADC']\n",
    "err_df_nobkg = np.array(np.sqrt(df['Counts'][:] + df_bkg['Counts'][:]))\n",
    "# print(len(df), '\\n', len(df_bkg), '\\n', df_nobkg)\n",
    "fig, ax = plt.subplots(figsize = (30, 6))\n",
    "plt.title('Spettro di sodio meno background', fontsize = 20)\n",
    "plt.grid(True, linewidth = 0.5)\n",
    "plt.scatter(df_nobkg['ADC'], df_nobkg['Counts'], s = 0.8)\n",
    "plt.errorbar(df['ADC'], df_nobkg['Counts'], yerr=  err_df_nobkg)\n",
    "fig, ax = plt.subplots(figsize = (30, 6))\n",
    "plt.errorbar(df['ADC'], df_bkg['Counts'], yerr=  np.array(np.sqrt(df_bkg['Counts'][:])), fmt='o', markersize=0.5)\n",
    "plt.errorbar(df['ADC'], df['Counts'], yerr=  np.array(np.sqrt(df['Counts'][:])), fmt='o', markersize=0.5)\n",
    "plt.legend(['Background', 'Sodium'])\n",
    "plt.title('Spettro di sodio e background', fontsize = 20)"
   ]
  },
  {
   "cell_type": "markdown",
   "id": "3",
   "metadata": {},
   "source": [
    "## primo picco"
   ]
  },
  {
   "cell_type": "code",
   "execution_count": null,
   "id": "4",
   "metadata": {},
   "outputs": [],
   "source": [
    "start_index = 150 - 65\n",
    "end_index = 210 - 65\n",
    "df_primo_picco = df_nobkg.iloc[start_index:end_index]\n",
    "plt.errorbar(df_primo_picco['ADC'], df_primo_picco['Counts'], yerr = err_df_nobkg[start_index:end_index])"
   ]
  },
  {
   "cell_type": "code",
   "execution_count": null,
   "id": "5",
   "metadata": {},
   "outputs": [],
   "source": [
    "pars, vals, errs, *others = LS_fit(df_primo_picco['ADC'], df_primo_picco['Counts'], err_df_nobkg[start_index:end_index], gauss, mu = 10000, sigma = 1000, S = 2000)\n",
    "for i in range(len(pars)):\n",
    "    print(f'{pars[i]} = {vals[i]} +/- {errs[i]}')\n",
    "S_1 = vals[1]\n",
    "mu1 = vals[0]"
   ]
  },
  {
   "cell_type": "markdown",
   "id": "6",
   "metadata": {},
   "source": [
    "# cobalto\n"
   ]
  },
  {
   "cell_type": "code",
   "execution_count": null,
   "id": "7",
   "metadata": {},
   "outputs": [],
   "source": [
    "Co = read_corretto(path = 'Dati/Parte 2/LySO/Cobalto_30min.txt', titles=['ADC', 'Counts'])\n",
    "Co_nobkg = Co[:] - df_bkg[:]\n",
    "fig, axes = plt.subplots(2, 1,figsize = (30, 6))\n",
    "axes[0].set_title('Spettro di cobalto + background', fontsize = 20)\n",
    "axes[0].plot(Co['ADC'], Co['Counts'], label = 'Cobalto')\n",
    "axes[1].plot(Co['ADC'], Co_nobkg['Counts'], label = 'Cobalto - Bkg')\n",
    "axes[0].grid(True, linewidth = 0.5)\n",
    "axes[1].grid(True, linewidth = 0.5)\n",
    "#plt.plot(Co['ADC'], Co_nobkg['Counts'])\n",
    "axes[0].scatter(df_bkg['ADC'], df_bkg['Counts'], s = 0.8)\n",
    "# plt.errorbar(df['ADC'], df_nobkg['Counts'], yerr=  err_df_nobkg)\n",
    "# fig, ax = plt.subplots(figsize = (30, 6))\n",
    "# plt.errorbar(df['ADC'], df_bkg['Counts'], yerr=  np.array(np.sqrt(df_bkg['Counts'][:])), fmt='o', markersize=0.5)\n",
    "# plt.errorbar(df['ADC'], df['Counts'], yerr=  np.array(np.sqrt(df['Counts'][:])), fmt='o', markersize=0.5)\n",
    "# plt.legend(['Background', 'Sodium'])\n",
    "# plt.title('Spettro di sodio e background', fontsize = 20)"
   ]
  },
  {
   "cell_type": "code",
   "execution_count": null,
   "id": "8",
   "metadata": {},
   "outputs": [],
   "source": [
    "start_index = 94 - 65\n",
    "end_index = 113 - 65\n",
    "limit = [['mu', (1000, 5000)]]\n",
    "pars, vals, errs, *others = LS_fit_lims(Co['ADC'][start_index:end_index], Co_nobkg['Counts'][start_index:end_index], \n",
    "                                        np.array(np.sqrt((Co[start_index:end_index]['Counts']) + df_bkg['Counts'][start_index:end_index])),\n",
    "                                        gauss, mu = 2500, sigma = 600, S = 2000, limits = limit)\n",
    "S_2 = vals[1]\n",
    "mu2 = vals[0]"
   ]
  },
  {
   "cell_type": "markdown",
   "id": "9",
   "metadata": {},
   "source": [
    "# Resolution"
   ]
  },
  {
   "cell_type": "code",
   "execution_count": null,
   "id": "10",
   "metadata": {},
   "outputs": [],
   "source": [
    "risoluzione_Na = 2.355 *  S_1/ mu1\n",
    "print('risoluzione sodio:', risoluzione_Na, '\\n', 'risoluzione cobalto:', 2.355 * S_2 / mu2)"
   ]
  }
 ],
 "metadata": {
  "kernelspec": {
   "display_name": "Python 3",
   "language": "python",
   "name": "python3"
  },
  "language_info": {
   "codemirror_mode": {
    "name": "ipython",
    "version": 3
   },
   "file_extension": ".py",
   "mimetype": "text/x-python",
   "name": "python",
   "nbconvert_exporter": "python",
   "pygments_lexer": "ipython3",
   "version": "3.11.1"
  }
 },
 "nbformat": 4,
 "nbformat_minor": 5
}
