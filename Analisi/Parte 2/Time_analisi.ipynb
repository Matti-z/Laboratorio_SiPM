{
 "cells": [
  {
   "cell_type": "code",
   "execution_count": null,
   "id": "0",
   "metadata": {},
   "outputs": [],
   "source": [
    "import numpy as np\n",
    "import pandas as pd\n",
    "import matplotlib.pyplot as plt\n",
    "\n",
    "import os\n",
    "while not os.getcwd().endswith('Laboratorio_SiPM'):\n",
    "    os.chdir('..')\n",
    "\n",
    "import sys\n",
    "sys.path.append('Config')\n",
    "from lablib import *"
   ]
  },
  {
   "cell_type": "code",
   "execution_count": null,
   "id": "1",
   "metadata": {},
   "outputs": [],
   "source": [
    "root_path = r'Dati/Parte 2/Caratterizzazione_impulso/'\n",
    "skip = 18\n",
    "\n",
    "def read_data(filename, titles = ['Time', 'V']):\n",
    "    df = read_corretto(root_path + filename + '/dat.csv', skip, titles)\n",
    "\n",
    "    # Sostituire tutte le istanze di \",\" con \"\" nelle colonne: 'V', 'Time'\n",
    "    df['V'] = df['V'].str.replace(\",\", \"\", case=False, regex=False)\n",
    "    df['Time'] = df['Time'].str.replace(\",\", \"\", case=False, regex=False)\n",
    "\n",
    "    # Convert all columns to float\n",
    "    df = df.astype(float)\n",
    "\n",
    "    return df\n",
    "\n",
    "def quick_plot(df):\n",
    "    plt.plot(df['Time'], df['V'])\n",
    "    plt.xlabel('Time')\n",
    "    plt.ylabel('V')\n",
    "    plt.title('Signal')\n",
    "    plt.show()"
   ]
  },
  {
   "cell_type": "markdown",
   "id": "2",
   "metadata": {},
   "source": [
    "## BGO"
   ]
  },
  {
   "cell_type": "code",
   "execution_count": null,
   "id": "3",
   "metadata": {},
   "outputs": [],
   "source": [
    "bgo_na = read_data('BGO_Na')\n",
    "quick_plot(bgo_na)"
   ]
  },
  {
   "cell_type": "code",
   "execution_count": null,
   "id": "4",
   "metadata": {},
   "outputs": [],
   "source": [
    "bgo_co = read_data('BGO_Co')\n",
    "quick_plot(bgo_co)"
   ]
  },
  {
   "cell_type": "markdown",
   "id": "5",
   "metadata": {},
   "source": [
    "## CSI"
   ]
  },
  {
   "cell_type": "code",
   "execution_count": null,
   "id": "6",
   "metadata": {},
   "outputs": [],
   "source": [
    "csi_na = read_data('CsI_Na')\n",
    "quick_plot(csi_na)"
   ]
  },
  {
   "cell_type": "code",
   "execution_count": null,
   "id": "7",
   "metadata": {},
   "outputs": [],
   "source": [
    "csi_co = read_data('CsI_Co')\n",
    "quick_plot(csi_co)"
   ]
  },
  {
   "cell_type": "markdown",
   "id": "8",
   "metadata": {},
   "source": [
    "## Lyso"
   ]
  },
  {
   "cell_type": "code",
   "execution_count": null,
   "id": "9",
   "metadata": {},
   "outputs": [],
   "source": [
    "lyso = read_data('LySO')\n",
    "quick_plot(lyso)"
   ]
  }
 ],
 "metadata": {
  "kernelspec": {
   "display_name": "Python 3",
   "language": "python",
   "name": "python3"
  },
  "language_info": {
   "codemirror_mode": {
    "name": "ipython",
    "version": 3
   },
   "file_extension": ".py",
   "mimetype": "text/x-python",
   "name": "python",
   "nbconvert_exporter": "python",
   "pygments_lexer": "ipython3",
   "version": "3.11.1"
  }
 },
 "nbformat": 4,
 "nbformat_minor": 5
}
