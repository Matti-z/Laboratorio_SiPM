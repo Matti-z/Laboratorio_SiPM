{
 "cells": [
  {
   "cell_type": "code",
   "execution_count": null,
   "id": "0",
   "metadata": {},
   "outputs": [],
   "source": [
    "import numpy as np\n",
    "import pandas as pd\n",
    "import matplotlib.pyplot as plt\n",
    "\n",
    "import os\n",
    "while not os.getcwd().endswith('Laboratorio_SiPM'):\n",
    "    os.chdir('..')\n",
    "\n",
    "import sys\n",
    "sys.path.append('Config')\n",
    "from lablib import *"
   ]
  },
  {
   "cell_type": "markdown",
   "id": "1",
   "metadata": {},
   "source": [
    "### Funzioni utili"
   ]
  },
  {
   "cell_type": "code",
   "execution_count": null,
   "id": "2",
   "metadata": {},
   "outputs": [],
   "source": [
    "root_path = r'Dati/Parte 2/Caratterizzazione_impulso/'\n",
    "skip = 18\n",
    "\n",
    "def read_data(filename, titles = ['Time', 'V']):\n",
    "    df = read_corretto(root_path + filename + '/dat.csv', skip, titles)\n",
    "\n",
    "    # Sostituire tutte le istanze di \",\" con \"\" nelle colonne: 'V', 'Time'\n",
    "    df['V'] = df['V'].str.replace(\",\", \"\", case=False, regex=False)\n",
    "    df['Time'] = df['Time'].str.replace(\",\", \"\", case=False, regex=False)\n",
    "\n",
    "    # Converte le colonne in float\n",
    "    df = df.astype(float)\n",
    "\n",
    "    return df\n",
    "\n",
    "def quick_plot(df):\n",
    "    plt.plot(df['Time'], df['V'])\n",
    "    plt.xlabel('Time')\n",
    "    plt.ylabel('V')\n",
    "    plt.title('Signal')\n",
    "    plt.show()\n",
    "\n",
    "def find_max(df):\n",
    "    max_index = df['V'].idxmax()\n",
    "    max_value = df['V'][max_index]\n",
    "\n",
    "    return max_index, max_value\n",
    "\n",
    "def expon(x, a, b):\n",
    "    return a * np.exp(-b * x)\n",
    "\n",
    "def rise_fall(df):\n",
    "    max_index, _ = find_max(df)\n",
    "\n",
    "    rise_time = df['Time'][:max_index]\n",
    "    fall_time = df['Time'][max_index:]\n",
    "    rise_voltage = df['V'][:max_index]\n",
    "    fall_voltage = df['V'][max_index:]\n",
    "\n",
    "    pd.DataFrame\n",
    "    return rise, fall\n",
    "\n"
   ]
  },
  {
   "cell_type": "markdown",
   "id": "3",
   "metadata": {},
   "source": [
    "## BGO"
   ]
  },
  {
   "cell_type": "code",
   "execution_count": null,
   "id": "4",
   "metadata": {},
   "outputs": [],
   "source": [
    "bgo_na = read_data('BGO_Na')\n",
    "quick_plot(bgo_na)"
   ]
  },
  {
   "cell_type": "code",
   "execution_count": null,
   "id": "5",
   "metadata": {},
   "outputs": [],
   "source": [
    "bgo_co = read_data('BGO_Co')\n",
    "quick_plot(bgo_co)"
   ]
  },
  {
   "cell_type": "markdown",
   "id": "6",
   "metadata": {},
   "source": [
    "## CSI"
   ]
  },
  {
   "cell_type": "code",
   "execution_count": null,
   "id": "7",
   "metadata": {},
   "outputs": [],
   "source": [
    "csi_na = read_data('CsI_Na')\n",
    "quick_plot(csi_na)"
   ]
  },
  {
   "cell_type": "code",
   "execution_count": null,
   "id": "8",
   "metadata": {},
   "outputs": [],
   "source": [
    "csi_co = read_data('CsI_Co')\n",
    "quick_plot(csi_co)"
   ]
  },
  {
   "cell_type": "markdown",
   "id": "9",
   "metadata": {},
   "source": [
    "## Lyso"
   ]
  },
  {
   "cell_type": "code",
   "execution_count": null,
   "id": "10",
   "metadata": {},
   "outputs": [],
   "source": [
    "lyso = read_data('LySO')\n",
    "lyso = crop_df(lyso, 10, .002)\n",
    "lyso_rise, lyso_fall = rise_fall(lyso)\n",
    "#quick_plot(lyso)\n",
    "\n",
    "lyso_ers = [.002] * len(lyso['Time'])\n",
    "\n",
    "max_index_lyso, max_lyso = find_max(lyso)\n",
    "\n",
    "plt.plot(lyso['Time'], lyso['V'])\n",
    "plt.vlines(lyso['Time'][max_index_lyso], 0, max_lyso, color='r', linestyle='--')\n",
    "plt.show()"
   ]
  },
  {
   "cell_type": "code",
   "execution_count": null,
   "id": "11",
   "metadata": {},
   "outputs": [],
   "source": [
    "# descend fit\n",
    "pars_lyso, vals_lyso, ers_lyso, *other_lyso = LS_fit(lyso['Time'][max_index_lyso:], lyso['V'][max_index_lyso:], lyso_ers[max_index_lyso:], expon, a=1, b=1)"
   ]
  },
  {
   "cell_type": "code",
   "execution_count": null,
   "id": "12",
   "metadata": {},
   "outputs": [],
   "source": [
    "\n",
    "plt.plot(lyso_fall['Time'], lyso_fall['V'])"
   ]
  }
 ],
 "metadata": {
  "kernelspec": {
   "display_name": "Python 3",
   "language": "python",
   "name": "python3"
  },
  "language_info": {
   "codemirror_mode": {
    "name": "ipython",
    "version": 3
   },
   "file_extension": ".py",
   "mimetype": "text/x-python",
   "name": "python",
   "nbconvert_exporter": "python",
   "pygments_lexer": "ipython3",
   "version": "3.11.1"
  }
 },
 "nbformat": 4,
 "nbformat_minor": 5
}
