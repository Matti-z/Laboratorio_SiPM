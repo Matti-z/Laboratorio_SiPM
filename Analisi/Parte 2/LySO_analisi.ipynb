{
 "cells": [
  {
   "cell_type": "code",
   "execution_count": null,
   "id": "0",
   "metadata": {},
   "outputs": [],
   "source": [
    "import pandas as pd\n",
    "from iminuit import Minuit \n",
    "from iminuit.cost import LeastSquares\n",
    "import numpy as np\n",
    "import matplotlib.pyplot as plt\n",
    "from scipy.stats import chi2\n",
    "\n",
    "import os\n",
    "while not os.getcwd().endswith('Laboratorio_SiPM'):\n",
    "   os.chdir('..')\n",
    " \n",
    "os.getcwd()\n",
    "#import sys\n",
    "#sys.path.append('Config')\n",
    "#from lablib import *'"
   ]
  },
  {
   "cell_type": "code",
   "execution_count": null,
   "id": "1",
   "metadata": {},
   "outputs": [],
   "source": [
    "def read (file_path):\n",
    "    return(pd.read_csv(file_path, delim_whitespace= True, skiprows = 65, header=None, encoding= 'ISO-8859-1'))"
   ]
  },
  {
   "cell_type": "code",
   "execution_count": null,
   "id": "2",
   "metadata": {},
   "outputs": [],
   "source": [
    "def cut_df(df: pd.DataFrame, sec: tuple) -> pd.DataFrame:\n",
    "    \"\"\"\n",
    "    Rimuove i dati al di fuori del range definito da sec.\n",
    "    \"\"\"\n",
    "    return df[(df.iloc[:,0] >= sec[0]) & (df.iloc[:,0] <= sec[1])].copy()\n"
   ]
  },
  {
   "cell_type": "code",
   "execution_count": null,
   "id": "3",
   "metadata": {},
   "outputs": [],
   "source": [
    "def gaussian(X, S, Z, K):\n",
    "    'K = fattore di scala'\n",
    "    return(K*(1/(np.sqrt(2*np.pi)*S)*np.exp(-((X-Z)/S)**2)))"
   ]
  },
  {
   "cell_type": "code",
   "execution_count": null,
   "id": "4",
   "metadata": {},
   "outputs": [],
   "source": [
    "def func_Na (X, S, Z, K, a, c):\n",
    "    'K e D = fattori di scala'\n",
    "    return gaussian(X, S, Z, K) + a*X**(-1) + c\n",
    "'plot per il sodio'"
   ]
  },
  {
   "cell_type": "code",
   "execution_count": null,
   "id": "5",
   "metadata": {},
   "outputs": [],
   "source": [
    "B = read('Dati\\Parte 2\\LySO\\Bkg_30min.txt')\n",
    "C = read('Dati\\Parte 2\\LySO\\Cobalto_30min.txt')\n",
    "S = read('Dati\\Parte 2\\LySO\\Sodio_30min.txt')\n",
    "\n",
    "C_spuro = cut_df(C, (1900, 4500)) \n",
    "B_spuro1 = cut_df(B, (1900, 4500))\n",
    "\n",
    "St = np.sqrt(C_spuro[1] + B_spuro1[1])\n",
    "C_puro = C_spuro[1] - B_spuro1[1]\n",
    "\n",
    "\n",
    "fig, ax = plt.subplots(nrows = 1, ncols = 1)  \n",
    "plt.plot(B_spuro1[0], C_puro, label='Cobalto 55.5V', color='blue')\n",
    "ax.errorbar(B_spuro1[0], C_puro, yerr=St, fmt='o', color='red', label='Cobalto 55.5V')\n",
    "\n"
   ]
  },
  {
   "cell_type": "code",
   "execution_count": null,
   "id": "6",
   "metadata": {},
   "outputs": [],
   "source": [
    "def analisi_Cobalto(X, Y, St):\n",
    "\n",
    "    L_S = LeastSquares(X, Y, St, gaussian)\n",
    "    my_minuit = Minuit (L_S, S = 100, K = 3000, Z = 2500)  \n",
    "    my_minuit.migrad () \n",
    "    my_minuit.hesse ()   \n",
    "\n",
    "#validità\n",
    "    V = my_minuit.valid\n",
    "    print('Validità: ', V)\n",
    "    Q_squared = my_minuit.fval\n",
    "    print ('Q-squared: ', Q_squared)\n",
    "    N_dof = my_minuit.ndof\n",
    "    print ('DOF: ', N_dof)\n",
    "    p_v = 1 - chi2.cdf(Q_squared, N_dof)\n",
    "    print('P value: ', p_v )\n",
    "\n",
    "#visualizzazione \n",
    "    display(my_minuit)\n",
    "\n",
    "#valori dell'interpolazione\n",
    "    a_f = my_minuit.values[0]\n",
    "    b_f = my_minuit.values[1]\n",
    "    c_f = my_minuit.values[2]\n",
    "\n",
    "    print('Deviazione standard: ', a_f)\n",
    "    print('Fattore di scala: ', c_f)\n",
    "    print('Posizione picco in ADC counts: ', b_f)\n",
    "\n",
    "\n",
    "Z = analisi_Cobalto(C_spuro[0], C_puro, St)"
   ]
  },
  {
   "cell_type": "code",
   "execution_count": null,
   "id": "7",
   "metadata": {},
   "outputs": [],
   "source": [
    "B = read('Dati\\Parte 2\\LySO\\Bkg_30min.txt')\n",
    "S = read('Dati\\Parte 2\\LySO\\Sodio_30min.txt')\n",
    "\n",
    "S_spuro = cut_df(S, (5000, 15000)) \n",
    "B_spuro2 = cut_df(B, (5000, 15000))\n",
    "\n",
    "Stat = np.sqrt(S_spuro[1] + B_spuro2[1])\n",
    "S_puro = S_spuro[1] - B_spuro2[1]\n",
    "\n",
    "fig, ax  = plt.subplots(nrows = 1, ncols = 1)\n",
    "plt.plot(B_spuro2[0], S_puro, label='Cobalto 55.5V', color='blue')\n",
    "ax.errorbar(B_spuro2[0], S_puro, yerr=Stat, fmt='o', color='red', label='Cobalto 55.5V')\n",
    "\n"
   ]
  },
  {
   "cell_type": "code",
   "execution_count": null,
   "id": "8",
   "metadata": {},
   "outputs": [],
   "source": [
    "def analisi_Sodio(X, Y, St):\n",
    "\n",
    "    L_S = LeastSquares(X, Y, St, func_Na)\n",
    "    my_minuit = Minuit (L_S, S = 100, K = 4000, Z = 10000, a = 0, c = 0)  \n",
    "    my_minuit.migrad () \n",
    "    my_minuit.hesse ()   \n",
    "\n",
    "#validità\n",
    "    V = my_minuit.valid\n",
    "    print('Validità: ', V)\n",
    "    Q_squared = my_minuit.fval\n",
    "    print ('Q-squared: ', Q_squared)\n",
    "    N_dof = my_minuit.ndof\n",
    "    print ('DOF: ', N_dof)\n",
    "    p_v = 1 - chi2.cdf(Q_squared, N_dof)\n",
    "    print('P value: ', p_v )\n",
    "\n",
    "#visualizzazione \n",
    "    display(my_minuit)\n",
    "\n",
    "#valori dell'interpolazione\n",
    "    a_f = my_minuit.values[0]\n",
    "    b_f = my_minuit.values[1]\n",
    "    c_f = my_minuit.values[2]\n",
    "    d_f = my_minuit.values[3]\n",
    "    e_f = my_minuit.values[4]\n",
    "\n",
    "    print('Deviazione standard: ', a_f)\n",
    "    print('Fattore di scala: ', c_f)\n",
    "    print('Posizione picco in ADC counts: ', b_f)\n",
    "    print('Valori del fondo iperbolico, a :', d_f, 'c :', e_f)\n",
    "\n",
    "\n",
    "Z = analisi_Sodio(S_spuro[0], S_puro, Stat)"
   ]
  }
 ],
 "metadata": {
  "kernelspec": {
   "display_name": "Python 3",
   "language": "python",
   "name": "python3"
  },
  "language_info": {
   "codemirror_mode": {
    "name": "ipython",
    "version": 3
   },
   "file_extension": ".py",
   "mimetype": "text/x-python",
   "name": "python",
   "nbconvert_exporter": "python",
   "pygments_lexer": "ipython3",
   "version": "3.12.4"
  }
 },
 "nbformat": 4,
 "nbformat_minor": 5
}
