{
 "cells": [
  {
   "cell_type": "code",
   "execution_count": null,
   "id": "0",
   "metadata": {},
   "outputs": [],
   "source": [
    "import numpy as np\n",
    "import pandas as pd\n",
    "import matplotlib.pyplot as plt\n",
    "import math\n",
    "from scipy.stats import chi2, norm, cauchy\n",
    "from iminuit import Minuit\n",
    "from iminuit.cost import LeastSquares\n",
    "# Cambiare directory per spostarsi nella cartella principale\n",
    "import os\n",
    "while not os.getcwd().endswith('Laboratorio_SiPM'):\n",
    "    os.chdir('..')\n",
    "\n",
    "#importo libreria\n",
    "import sys\n",
    "sys.path.append('Config')\n",
    "from lablib import *\n"
   ]
  },
  {
   "cell_type": "code",
   "execution_count": null,
   "id": "1",
   "metadata": {},
   "outputs": [],
   "source": [
    "#definisco le varie funzioni\n",
    "def gauss(x, mu, sigma, a):\n",
    "    return a * np.exp(-0.5 * ((x - mu) / sigma) ** 2)\n",
    "\n",
    "def gauss_cost(x, mu, sigma, a, cost):\n",
    "    return gauss(x, mu, sigma, a) + cost\n",
    "\n",
    "def gauss_pol2(x, mu, sigma, a, b, c, cost):\n",
    "    return gauss(x, mu, sigma, a) + b*x + c * x**2 + cost\n",
    "\n",
    "def gauss_exp(x, mu, sigma, a, b):\n",
    "    return gauss(x, mu, sigma, a) + b * np.exp(-x) \n",
    "\n",
    "def gauss_pol3 (x, mu, sigma, a, b, c, cost, d):\n",
    "    return gauss_pol2(x, mu, sigma, a, b, c, cost) + d* x**3"
   ]
  },
  {
   "cell_type": "markdown",
   "id": "2",
   "metadata": {},
   "source": [
    "# SODIO"
   ]
  },
  {
   "cell_type": "code",
   "execution_count": null,
   "id": "3",
   "metadata": {},
   "outputs": [],
   "source": [
    "#prendo i dati\n",
    "df = pd.read_csv('Dati/Parte 2/BGO/Sodio_55.5V.txt', delim_whitespace= True, skiprows = 65, header=None, encoding= 'ISO-8859-1', names= ['ADC', 'Counts'])\n",
    "df_bkg = pd.read_csv ('Dati/Parte 2/BGO/Bkg_55.5V.txt', delim_whitespace = True, header = None, skiprows = 65, encoding = 'ISO-8859-1', names = ['ADC', 'Counts'])\n",
    "fig, ax = plt.subplots(figsize = (30,6))\n",
    "plt.scatter(df['ADC'][:120], df['Counts'][:120], label = 'Spettro di Na', color = 'blue')\n",
    "plt.plot(df_bkg['ADC'][:120], df_bkg['Counts'][:120], label = 'Spettro di fondo', color = 'red')\n",
    "plt.legend()\n",
    "plt.title('Cristallo BGO Sodio')"
   ]
  },
  {
   "cell_type": "markdown",
   "id": "4",
   "metadata": {},
   "source": [
    "## Primo picco"
   ]
  },
  {
   "cell_type": "code",
   "execution_count": null,
   "id": "5",
   "metadata": {},
   "outputs": [],
   "source": [
    "start_index = 35\n",
    "end_index = 51\n",
    "df_primo_picco_sodio = df.iloc[start_index:end_index]\n",
    "err_primo_picco_sodio = np.array(np.sqrt(df_primo_picco_sodio['Counts'][:]))\n",
    "#print(err_primo_picco_sodio)\n"
   ]
  },
  {
   "cell_type": "code",
   "execution_count": null,
   "id": "6",
   "metadata": {},
   "outputs": [],
   "source": [
    "pars, vals, ers, *other = LS_fit(df_primo_picco_sodio['ADC'], df_primo_picco_sodio['Counts'], err_primo_picco_sodio, gauss, mu = 3170, sigma = 350, a = 7400 )"
   ]
  },
  {
   "cell_type": "code",
   "execution_count": null,
   "id": "7",
   "metadata": {},
   "outputs": [],
   "source": [
    "for i in range(len(vals)):\n",
    "    print(f'{pars[i]} = {vals[i]} +/- {ers[i]}')"
   ]
  },
  {
   "cell_type": "markdown",
   "id": "8",
   "metadata": {},
   "source": [
    "## Secondo picco"
   ]
  },
  {
   "cell_type": "code",
   "execution_count": null,
   "id": "9",
   "metadata": {},
   "outputs": [],
   "source": [
    "start_index = 79\n",
    "end_index = 105\n",
    "df_secondo_picco_sodio = df.iloc[start_index : end_index]\n",
    "err_secondo_picco_sodio = np.array(np.sqrt(df_secondo_picco_sodio['Counts']))\n",
    "plt.plot(df_secondo_picco_sodio['ADC'], df_secondo_picco_sodio['Counts'])\n",
    "#print(df_secondo_picco_sodio)"
   ]
  },
  {
   "cell_type": "code",
   "execution_count": null,
   "id": "10",
   "metadata": {},
   "outputs": [],
   "source": [
    "pars, vals, errs, *others = LS_fit(df_secondo_picco_sodio['ADC'], df_secondo_picco_sodio['Counts'], err_secondo_picco_sodio, gauss, mu = 8000, sigma = 350, a = 500)"
   ]
  },
  {
   "cell_type": "markdown",
   "id": "11",
   "metadata": {},
   "source": [
    "# COBALTO"
   ]
  },
  {
   "cell_type": "code",
   "execution_count": null,
   "id": "12",
   "metadata": {},
   "outputs": [],
   "source": [
    "# prendo i dati\n",
    "df = pd.read_csv('Dati/Parte 2/BGO/Cobalto_55.5V_bins100.txt', delim_whitespace= 'True', skiprows = 65, header=None, encoding= 'ISO-8859-1', names= ['ADC', 'Counts'])\n",
    "df_bkg = pd.read_csv ('Dati/Parte 2/BGO/Bkg_55.5V.txt', delim_whitespace = 'True', header = None, skiprows = 65, encoding = 'ISO-8859-1', names = ['ADC', 'Counts'])\n",
    "fig, ax = plt.subplots(figsize = (30,6))\n",
    "plt.scatter(df['ADC'][:120], df['Counts'][:120], label = 'Spettro di Na', color = 'blue')\n",
    "plt.plot(df_bkg['ADC'][:120], df_bkg['Counts'][:120], label = 'Spettro di fondo', color = 'red')\n",
    "plt.legend()\n",
    "plt.title('Cristallo BGO Cobalto')"
   ]
  },
  {
   "cell_type": "code",
   "execution_count": null,
   "id": "13",
   "metadata": {},
   "outputs": [],
   "source": [
    "df_filtrato ['ADC'] = df['ADC'][:100] \n",
    "df_filtrato['Counts'] = df['Counts'][0:100] - df_bkg['Counts'][0:100]\n",
    "#print(df_filtrato['Counts'][:])\n",
    "fig, ax = plt.subplots(figsize = (30,6))\n",
    "plt.scatter(df_filtrato['ADC'], df_filtrato['Counts'])\n",
    "start_index = 9\n",
    "end_index = 25\n",
    "df_filtrato = df.iloc[start_index:end_index]\n",
    "df_bkg = df_bkg[start_index:end_index]\n",
    "err_df_filtrato = np.array(np.sqrt(df_filtrato['Counts']) + np.sqrt(df_bkg['Counts']))\n"
   ]
  },
  {
   "cell_type": "code",
   "execution_count": null,
   "id": "14",
   "metadata": {},
   "outputs": [],
   "source": [
    "pars, vals, ers, *other = LS_fit(df_filtrato['ADC'], df_filtrato['Counts'], err_df_filtrato, gauss_cost, mu = 500, sigma = 250, a  = 1000, cost = 70)"
   ]
  },
  {
   "cell_type": "code",
   "execution_count": null,
   "id": "15",
   "metadata": {},
   "outputs": [],
   "source": [
    "for i in range(len(vals)):\n",
    "    print(f'{pars[i]} = {vals[i]} +/- {ers[i]}')"
   ]
  }
 ],
 "metadata": {
  "kernelspec": {
   "display_name": "Python 3",
   "language": "python",
   "name": "python3"
  },
  "language_info": {
   "codemirror_mode": {
    "name": "ipython",
    "version": 3
   },
   "file_extension": ".py",
   "mimetype": "text/x-python",
   "name": "python",
   "nbconvert_exporter": "python",
   "pygments_lexer": "ipython3",
   "version": "3.11.1"
  }
 },
 "nbformat": 4,
 "nbformat_minor": 5
}
