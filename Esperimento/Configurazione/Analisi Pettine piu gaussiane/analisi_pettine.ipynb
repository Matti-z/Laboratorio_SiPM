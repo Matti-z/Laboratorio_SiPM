{
 "cells": [
  {
   "cell_type": "markdown",
   "metadata": {},
   "source": [
    "# Analisi del grafico a pettine"
   ]
  },
  {
   "cell_type": "markdown",
   "metadata": {},
   "source": [
    "## Boring Setup"
   ]
  },
  {
   "cell_type": "code",
   "execution_count": null,
   "metadata": {},
   "outputs": [],
   "source": [
    "import numpy as np\n",
    "import pandas as pd\n",
    "import matplotlib.pyplot as plt\n",
    "import scipy.stats as stats\n",
    "\n",
    "# Cambiare directory per spostarsi nella cartella principale\n",
    "import os\n",
    "while not os.getcwd().endswith('Laboratorio_SiPM'):\n",
    "    os.chdir('..')\n",
    "\n",
    "import sys\n",
    "sys.path.append('Config')\n",
    "from lablib import *"
   ]
  },
  {
   "cell_type": "markdown",
   "metadata": {},
   "source": [
    "### Funzioni utili"
   ]
  },
  {
   "cell_type": "code",
   "execution_count": null,
   "metadata": {},
   "outputs": [],
   "source": [
    "def crop_df(df: pd.DataFrame, N: int, thr = 0) -> pd.DataFrame:\n",
    "    \"\"\"\n",
    "    Remove groups of consecutive numbers under the threshold from the DataFrame.\n",
    "    \"\"\"\n",
    "    is_zero = df.iloc[:,1] <= thr\n",
    "    group_id = (is_zero != is_zero.shift()).cumsum()\n",
    "    removal_mask = pd.Series(False, index=df.index)\n",
    "    for grp, group_indices in df.groupby(group_id).groups.items():\n",
    "        if is_zero.loc[group_indices[0]] and len(group_indices) > N:\n",
    "            removal_mask.loc[group_indices] = True\n",
    "    return df[~removal_mask].copy()\n",
    "\n",
    "def cut_df(df: pd.DataFrame, sec: tuple) -> pd.DataFrame:\n",
    "    \"\"\"\n",
    "    Rimuove i dati al di fuori del range definito da sec.\n",
    "    \"\"\"\n",
    "    return df[(df.iloc[:,0] >= sec[0]) & (df.iloc[:,0] <= sec[1])].copy()\n",
    "\n",
    "def assign_errors(df: pd.DataFrame, lim = 30) -> np.ndarray:\n",
    "    \"\"\"\n",
    "    Assegna un errore a ciascun valore in base al valore stesso.\n",
    "    L'errore è considerato gaussiano se ci sono abbastanza eventi.\n",
    "    Se il numero di eventi è minore di lim, va riconsiderato.\n",
    "    \"\"\"\n",
    "    ys = list(df.iloc[:,1])\n",
    "    tot = np.sum(ys)\n",
    "    ers = np.zeros(len(df))\n",
    "\n",
    "    i = 0\n",
    "    for y in ys:\n",
    "        if y > lim: # type: ignore\n",
    "            ers[i] = np.sqrt(y) # type: ignore\n",
    "        else:\n",
    "            ers[i] = np.sqrt(lim) \n",
    "            #ers[i] = np.sqrt(y * y/tot * (1 - y/tot)) # FIXME\n",
    "        i += 1\n",
    "\n",
    "    return ers\n",
    "\n",
    "def six_gauss_plus_backgrd(x, mu1, mu2, mu3, mu4, mu5, mu6, \n",
    "                           sig1, sig2, sig3, sig4, sig5, sig6,\n",
    "                           scale1, scale2, scale3, scale4, scale5, scale6, \n",
    "                           bkg_mu, bkg_sigma, bkg_scale):\n",
    "    \n",
    "    return (scale1*stats.norm.pdf(x, mu1, sig1) +\n",
    "            scale2*stats.norm.pdf(x, mu2, sig2) +\n",
    "            scale3*stats.norm.pdf(x, mu3, sig3) +\n",
    "            scale4*stats.norm.pdf(x, mu4, sig4) +\n",
    "            scale5*stats.norm.pdf(x, mu5, sig5) +\n",
    "            scale6*stats.norm.pdf(x, mu6, sig6)) + \\\n",
    "            (bkg_scale * stats.norm.pdf(x, bkg_mu, bkg_sigma))\n",
    "\n",
    "def eight_gauss_plus_backgrd(x, mu1, mu2, mu3, mu4, mu5, mu6, mu7, mu8,\n",
    "                            sig1, sig2, sig3, sig4, sig5, sig6, sig7, sig8,\n",
    "                            scale1, scale2, scale3, scale4, scale5, scale6, scale7, scale8,\n",
    "                            bkg_mu, bkg_sigma, bkg_scale):\n",
    "    \n",
    "    return (scale1*stats.norm.pdf(x, mu1, sig1) +\n",
    "                scale2*stats.norm.pdf(x, mu2, sig2) +\n",
    "                scale3*stats.norm.pdf(x, mu3, sig3) +\n",
    "                scale4*stats.norm.pdf(x, mu4, sig4) +\n",
    "                scale5*stats.norm.pdf(x, mu5, sig5) +\n",
    "                scale6*stats.norm.pdf(x, mu6, sig6) +\n",
    "                scale7*stats.norm.pdf(x, mu7, sig7) +\n",
    "                scale8*stats.norm.pdf(x, mu8, sig8)) + \\\n",
    "                (bkg_scale * stats.norm.pdf(x, bkg_mu, bkg_sigma))\n",
    "\n",
    "def nine_gauss_plus_backgrd(x, mu1, mu2, mu3, mu4, mu5, mu6, mu7, mu8, mu9,\n",
    "                            sig1, sig2, sig3, sig4, sig5, sig6, sig7, sig8, sig9,\n",
    "                            scale1, scale2, scale3, scale4, scale5, scale6, scale7, scale8, scale9,\n",
    "                            bkg_mu, bkg_sigma, bkg_scale):\n",
    "    \n",
    "    return (scale1*stats.norm.pdf(x, mu1, sig1) +\n",
    "                scale2*stats.norm.pdf(x, mu2, sig2) +\n",
    "                scale3*stats.norm.pdf(x, mu3, sig3) +\n",
    "                scale4*stats.norm.pdf(x, mu4, sig4) +\n",
    "                scale5*stats.norm.pdf(x, mu5, sig5) +\n",
    "                scale6*stats.norm.pdf(x, mu6, sig6) +\n",
    "                scale7*stats.norm.pdf(x, mu7, sig7) +\n",
    "                scale8*stats.norm.pdf(x, mu8, sig8) +\n",
    "                scale9*stats.norm.pdf(x, mu9, sig9)) + \\\n",
    "                (bkg_scale * stats.norm.pdf(x, bkg_mu, bkg_sigma))\n",
    "\n",
    "def calculate_distances(vals: list[float], ers: list[float]) -> tuple[list[float], list[float]]:\n",
    "    distances = []\n",
    "    errors = []\n",
    "    for i in range(len(vals)-1):\n",
    "        distances.append(vals[i+1] - vals[i])\n",
    "\n",
    "        # per calcolare l'errore della distanza, sommiamo gli errori in quadratura\n",
    "        # che in questo caso corrisponde alla formula generale di propagazione degli errori\n",
    "        errors.append(np.sqrt(ers[i]**2 + ers[i+1]**2))\n",
    "\n",
    "    return distances, errors"
   ]
  },
  {
   "cell_type": "code",
   "execution_count": null,
   "metadata": {},
   "outputs": [],
   "source": [
    "pettine53 = pd.read_csv('Dati/Configurazione/Gain_V/File csv (corretti)/pettine_dark_count_v53.csv')\n",
    "pettine53_5 = pd.read_csv('Dati/Configurazione/Gain_V/File csv (corretti)/pettine_dark_count_v53_5.csv')\n",
    "pettine54 = pd.read_csv('Dati/Configurazione/Gain_V/File csv (corretti)/pettine_dark_count_v54.csv')\n",
    "pettine54_5 = pd.read_csv('Dati/Configurazione/Gain_V/File csv (corretti)/pettine_dark_count_v54_5.csv')\n",
    "pettine55_5 = pd.read_csv('Dati/Configurazione/Gain_V/File csv (corretti)/pettine_dark_count_v55_5.csv')\n",
    "\n",
    "thr_noise = 5\n",
    "thr_sequence = 10\n",
    "thr_errors = 30\n",
    "\n",
    "p53 = crop_df(pettine53, thr_sequence, thr_noise) # valore di 5 arbitrario\n",
    "p53_5 = crop_df(pettine53_5, thr_sequence, thr_noise)\n",
    "p54 = crop_df(pettine54, thr_sequence, thr_noise)\n",
    "p54_5 = crop_df(pettine54_5, thr_sequence, thr_noise)\n",
    "p55_5 = crop_df(pettine55_5, thr_sequence, thr_noise)\n",
    "\n",
    "p53_err = assign_errors(p53, thr_errors)\n",
    "p53_5_err = assign_errors(p53_5, thr_errors)\n",
    "p54_err = assign_errors(p54, thr_errors)\n",
    "p54_5_err = assign_errors(p54_5, thr_errors)\n",
    "p55_5_err = assign_errors(p55_5, thr_errors)"
   ]
  },
  {
   "cell_type": "markdown",
   "metadata": {},
   "source": [
    "## Estrazione Dati"
   ]
  },
  {
   "cell_type": "code",
   "execution_count": null,
   "metadata": {},
   "outputs": [],
   "source": [
    "# commentare quelle che non servono\n",
    "\n",
    "#plt.plot(p53.iloc[:,0], p53.iloc[:,1], label='pettine53', color='blue')\n",
    "#plt.errorbar(p53.iloc[:,0], p53.iloc[:,1], yerr=p53_err, fmt='o', color='red', markersize=2, label='pettine53 error')\n",
    "\n",
    "plt.plot(p53_5.iloc[:,0], p53_5.iloc[:,1], label='pettine53_5', color='cyan')\n",
    "#plt.plot(p54.iloc[:,0], p54.iloc[:,1], label='pettine54', color='red')\n",
    "#plt.plot(p54_5.iloc[:,0], p54_5.iloc[:,1], label='pettine54_5', color='orange')\n",
    "#plt.plot(p55_5.iloc[:,0], p55_5.iloc[:,1], label='pettine55_5', color='purple')\n",
    "\n",
    "plt.xlabel('ADC channels')\n",
    "plt.ylabel('Conteggi')\n",
    "plt.title('Conteggi in funzione dei canali ADC')\n",
    "plt.legend()\n",
    "plt.show()"
   ]
  },
  {
   "cell_type": "markdown",
   "metadata": {},
   "source": [
    "### Analisi pettine 53 V"
   ]
  },
  {
   "cell_type": "code",
   "execution_count": null,
   "metadata": {},
   "outputs": [],
   "source": [
    "par53, val53, err53, pval53, dof53, qsq53, *other = LS_fit(p53.iloc[:,0], p53.iloc[:,1], p53_err, six_gauss_plus_backgrd, \n",
    "                                       mu1=0, mu2=30, mu3=60, mu4=90, mu5=130, mu6=160,\n",
    "                                       scale1=1e3, scale2=1e4, scale3=1e4, scale4=1e4, scale5=1e4, scale6=5e3,\n",
    "                                       sig1=10, sig2=10, sig3=10, sig4=10, sig5=10, sig6=10,\n",
    "                                       bkg_mu=100, bkg_sigma=100, bkg_scale=10000,\n",
    "                                       disp=0)\n",
    "\n",
    "if 0: # solo per non farlo uscire sempre\n",
    "    for i in range(len(par53)):\n",
    "        print(f\"parametro {par53[i]}: {val53[i]:.5g} ± {err53[i]:.5g}\")\n",
    "\n",
    "    print(\"----------\")\n",
    "\n",
    "    print(f\"chi2 ridotto: {qsq53/dof53:.5g}\")\n",
    "    print(f\"p-value: {pval53:.5g}\")"
   ]
  },
  {
   "cell_type": "code",
   "execution_count": null,
   "metadata": {},
   "outputs": [],
   "source": [
    "peaks53 = val53[:6]\n",
    "\n",
    "dist53, dist_err53 = calculate_distances(peaks53, err53)\n",
    "sig53_mean = np.sqrt(np.sum([i**2 for i in dist_err53])) / len(dist_err53)\n",
    "\n",
    "print(\"Distanze pettine53:\")\n",
    "for i in range(len(dist53)):\n",
    "    print(f\" distanza {i+1}: {dist53[i]:.5g} ± {dist_err53[i]:.5g}\")\n",
    "print(\"----------\")\n",
    "\n",
    "dist53_mean = np.mean(dist53)\n",
    "dist53_std = np.sqrt(np.sum([i**2 for i in dist_err53])) / len(dist_err53) # errore medio\n",
    "\n",
    "print(f\"Distanza media pettine 53v: {dist53_mean:.5g} ± {dist53_std:.5g}\")"
   ]
  },
  {
   "cell_type": "markdown",
   "metadata": {},
   "source": [
    "### Analisi Pettine 53.5 V"
   ]
  },
  {
   "cell_type": "code",
   "execution_count": null,
   "metadata": {},
   "outputs": [],
   "source": [
    "par53_5, val53_5, err53_5, pval53_5, dof53_5, qsq53_5, *other = LS_fit(p53_5.iloc[:,0], p53_5.iloc[:,1], p53_5_err, eight_gauss_plus_backgrd,\n",
    "                                                                        mu1=50, mu2=100, mu3=150, mu4=200, \n",
    "                                                                        mu5=250, mu6=330, mu7=380, mu8=430,\n",
    "                                                                        \n",
    "                                                                        scale1=1e4, scale2=1e4, scale3=1e4, scale4=1e4, \n",
    "                                                                        scale5=1e4, scale6=1e4, scale7=1e3, scale8=1e3,\n",
    "\n",
    "                                                                        sig1=10, sig2=10, sig3=10, sig4=10, \n",
    "                                                                        sig5=10, sig6=10, sig7=10, sig8=10,\n",
    "\n",
    "                                                                        bkg_mu=100, bkg_sigma=100, bkg_scale=10000,\n",
    "                                                                        disp=0)\n",
    "\n",
    "if 0:\n",
    "    for i in range(len(par53_5)):\n",
    "        print(f\"parametro {par53_5[i]}: {val53_5[i]:.5g} ± {err53_5[i]:.5g}\")\n",
    "\n",
    "    print(\"----------\")\n",
    "    print(f\"chi2 ridotto: {qsq53_5/dof53_5:.5g}\")\n",
    "    print(f\"p-value: {pval53_5:.5g}\")"
   ]
  },
  {
   "cell_type": "code",
   "execution_count": null,
   "metadata": {},
   "outputs": [],
   "source": [
    "peaks53_5 = val53_5[:8]\n",
    "\n",
    "dist53_5, dist_err53_5 = calculate_distances(peaks53_5, err53_5)\n",
    "dist53_5_mean = np.mean(dist53_5)\n",
    "dist53_5_std = np.sqrt(np.sum([i**2 for i in dist_err53_5])) / len(dist_err53_5)\n",
    "\n",
    "print(f\"Distanza media pettine 53.5v: {dist53_5_mean:.5g} ± {dist53_5_std:.5g}\")"
   ]
  },
  {
   "cell_type": "markdown",
   "metadata": {},
   "source": [
    "### Analisi Pettine 53.5V (tagliato)\n",
    "Senza i valori esterni alle gaussiane fittate\n"
   ]
  },
  {
   "cell_type": "code",
   "execution_count": null,
   "metadata": {},
   "outputs": [],
   "source": [
    "p53_5_cut = cut_df(p53_5, (30,450))\n",
    "p53_5_cut_err = assign_errors(p53_5_cut, thr_errors)\n",
    "\n",
    "par53_5_cut, val53_5_cut, err53_5_cut, pval53_5_cut, dof53_5_cut, qsq53_5_cut, *other = LS_fit(p53_5_cut.iloc[:,0], p53_5_cut.iloc[:,1], p53_5_cut_err, eight_gauss_plus_backgrd,\n",
    "                                                                        mu1=50, mu2=100, mu3=150, mu4=200, \n",
    "                                                                        mu5=250, mu6=330, mu7=380, mu8=430,\n",
    "\n",
    "                                                                        scale1=1e4, scale2=1e4, scale3=1e4, scale4=1e4, \n",
    "                                                                        scale5=1e4, scale6=1e4, scale7=1e3, scale8=1e3,\n",
    "                                                                        \n",
    "                                                                        sig1=10, sig2=10, sig3=10, sig4=10, \n",
    "                                                                        sig5=10, sig6=10, sig7=10, sig8=10,\n",
    "\n",
    "                                                                        bkg_mu=100, bkg_sigma=100, bkg_scale=10000,\n",
    "                                                                        disp = 0)\n",
    "\n",
    "if 0:\n",
    "    for i in range(len(par53_5_cut)):\n",
    "        print(f\"parametro {par53_5_cut[i]}: {val53_5_cut[i]:.5g} ± {err53_5_cut[i]:.5g}\")\n",
    "\n",
    "    print(\"----------\")\n",
    "    print(f\"chi2 ridotto: {qsq53_5_cut/dof53_5_cut:.5g}\")\n",
    "    print(f\"p-value: {pval53_5_cut:.5g}\")"
   ]
  },
  {
   "cell_type": "code",
   "execution_count": null,
   "metadata": {},
   "outputs": [],
   "source": [
    "peaks53_5_cut = val53_5_cut[:8]\n",
    "\n",
    "dist53_5_cut, dist_err53_5_cut = calculate_distances(peaks53_5_cut, err53_5_cut)\n",
    "dist53_5_cut_mean = np.mean(dist53_5_cut)\n",
    "dist53_5_cut_std = np.sqrt(np.sum([i**2 for i in dist_err53_5_cut])) / len(dist_err53_5_cut)\n",
    "\n",
    "print(f\"Distanza media pettine 53.5v (tagliato): {dist53_5_cut_mean:.5g} ± {dist53_5_cut_std:.5g}\")"
   ]
  },
  {
   "cell_type": "markdown",
   "metadata": {},
   "source": [
    "Il fit e' migliorato ma gli erori sono fottuti"
   ]
  },
  {
   "cell_type": "markdown",
   "metadata": {},
   "source": [
    "### Analisi Pettine 54 V"
   ]
  },
  {
   "cell_type": "code",
   "execution_count": null,
   "metadata": {},
   "outputs": [],
   "source": [
    "par54, val54, err54, pval54, dof54, qsq54, *other = LS_fit(p54.iloc[:,0], p54.iloc[:,1], p54_err, nine_gauss_plus_backgrd,\n",
    "                                                          mu1=180, mu2=260, mu3=340, mu4=420, mu5=500, \n",
    "                                                          mu6=580, mu7= 660, mu8=740, mu9=820,\n",
    "\n",
    "                                                          scale1=1e4, scale2=1e4, scale3=1e4, scale4=1e4, scale5=1e4, \n",
    "                                                          scale6=1e4, scale7=1e4, scale8=1e4, scale9=1e4,\n",
    "\n",
    "                                                          sig1=10, sig2=10, sig3=10, sig4=10, sig5=10, \n",
    "                                                          sig6=10, sig7=10, sig8=10, sig9=10,\n",
    "                                                          \n",
    "                                                          bkg_mu=500, bkg_sigma=500, bkg_scale=1000,\n",
    "                                                          disp=0)\n",
    "\n",
    "if 0:\n",
    "    for i in range(len(par54)):\n",
    "        print(f\"parametro {par54[i]}: {val54[i]:.5g} ± {err54[i]:.5g}\")\n",
    "\n",
    "    print(\"----------\")\n",
    "    print(f\"chi2 ridotto: {qsq54/dof54:.5g}\")\n",
    "    print(f\"p-value: {pval54:.5g}\")"
   ]
  },
  {
   "cell_type": "code",
   "execution_count": null,
   "metadata": {},
   "outputs": [],
   "source": [
    "peaks54 = val54[:9]\n",
    "\n",
    "dist54, dist_err54 = calculate_distances(peaks54, err54)\n",
    "dist54_mean = np.mean(dist54)\n",
    "dist54_std = np.sqrt(np.sum([i**2 for i in dist_err54])) / len(dist_err54)\n",
    "\n",
    "print(f\"Distanza media pettine 54v: {dist54_mean:.5g} ± {dist54_std:.5g}\")"
   ]
  },
  {
   "cell_type": "markdown",
   "metadata": {},
   "source": [
    "### Analisi Pettine 54.5 V"
   ]
  },
  {
   "cell_type": "code",
   "execution_count": null,
   "metadata": {},
   "outputs": [],
   "source": [
    "par54_5, val54_5, err54_5, pval54_5, dof54_5, qsq54_5, *other = LS_fit(p54_5.iloc[:,0], p54_5.iloc[:,1], p54_5_err, nine_gauss_plus_backgrd,\n",
    "                                                            mu1=200, mu2=320, mu3=440, mu4=560, mu5=680, \n",
    "                                                            mu6=770, mu7= 860, mu8=950, mu9=1050,\n",
    "    \n",
    "                                                            scale1=1e4, scale2=1e4, scale3=1e4, scale4=1e4, scale5=1e4, \n",
    "                                                            scale6=1e4, scale7=1e4, scale8=1e4, scale9=1e4,\n",
    "    \n",
    "                                                            sig1=10, sig2=10, sig3=10, sig4=10, sig5=10, \n",
    "                                                            sig6=10, sig7=10, sig8=10, sig9=10,\n",
    "                                                            \n",
    "                                                            bkg_mu=800, bkg_sigma=500, bkg_scale=1000,\n",
    "                                                            disp = 0)\n",
    "\n",
    "if 0:\n",
    "    for i in range(len(par54_5)):\n",
    "        print(f\"parametro {par54_5[i]}: {val54_5[i]:.5g} ± {err54_5[i]:.5g}\")\n",
    "\n",
    "    print(\"----------\")\n",
    "    print(f\"chi2 ridotto: {qsq54_5/dof54_5:.5g}\")\n",
    "    print(f\"p-value: {pval54_5:.5g}\")"
   ]
  },
  {
   "cell_type": "code",
   "execution_count": null,
   "metadata": {},
   "outputs": [],
   "source": [
    "peaks54_5 = val54_5[:9]\n",
    "\n",
    "dist54_5, dist_err54_5 = calculate_distances(peaks54_5, err54_5)\n",
    "dist54_5_mean = np.mean(dist54_5)\n",
    "dist54_5_std = np.sqrt(np.sum([i**2 for i in dist_err54_5])) / len(dist_err54_5)\n",
    "\n",
    "print(f\"Distanza media pettine 54.5v: {dist54_5_mean:.5g} ± {dist54_5_std:.5g}\")"
   ]
  },
  {
   "cell_type": "markdown",
   "metadata": {},
   "source": [
    "### Analisi Pettine 55.5V"
   ]
  },
  {
   "cell_type": "code",
   "execution_count": null,
   "metadata": {},
   "outputs": [],
   "source": [
    "par55_5, val55_5, err55_5, pval55_5, dof55_5, qsq55_5, *other = LS_fit(p55_5.iloc[:,0], p55_5.iloc[:,1], p55_5_err, nine_gauss_plus_backgrd,\n",
    "                                                            mu1=450, mu2=600, mu3=750, mu4=900, mu5=1050, \n",
    "                                                            mu6=1200, mu7= 1350, mu8=1500, mu9=1650,\n",
    "    \n",
    "                                                            scale1=1e3, scale2=1e3, scale3=1e3, scale4=1e3, scale5=1e3, \n",
    "                                                            scale6=1e3, scale7=1e3, scale8=1e3, scale9=1e3,\n",
    "    \n",
    "                                                            sig1=20, sig2=20, sig3=20, sig4=20, sig5=20, \n",
    "                                                            sig6=20, sig7=20, sig8=20, sig9=20,\n",
    "                                                            \n",
    "                                                            bkg_mu=1300, bkg_sigma=1000, bkg_scale=1000,\n",
    "                                                            disp = 1)\n",
    "\n",
    "if 0:\n",
    "    for i in range(len(par55_5)):\n",
    "        print(f\"parametro {par55_5[i]}: {val55_5[i]:.5g} ± {err55_5[i]:.5g}\")\n",
    "\n",
    "    print(\"----------\")\n",
    "    print(f\"chi2 ridotto: {qsq55_5/dof55_5:.5g}\")\n",
    "    print(f\"p-value: {pval55_5:.5g}\")"
   ]
  },
  {
   "cell_type": "markdown",
   "metadata": {
    "tags": [
     "Importante"
    ]
   },
   "source": [
    "<span style=\"color:red\">**Osservazione**</span> \\\n",
    "Con background scale 1000, il programma riesce a fittare ma non sembra che esca bene.\n",
    "\n",
    "Con scale 10000, il programma non fitta, ma ad occhio esce meglio\n",
    "\n",
    "Non finisco l'analisi per questo\n",
    "\n",
    "**Osservazione 2** \\\n",
    "Gli errori sono in generale piccolissimi"
   ]
  },
  {
   "cell_type": "markdown",
   "metadata": {},
   "source": [
    "## Analisi Risultati"
   ]
  },
  {
   "cell_type": "code",
   "execution_count": null,
   "metadata": {},
   "outputs": [],
   "source": [
    "peaks = [dist53_mean, dist53_5_mean, dist54_mean, dist54_5_mean]\n",
    "peaks_err = [dist53_std, dist53_5_std, dist54_std, dist54_5_std]\n",
    "\n",
    "linear = lambda x, a, b: a*x + b\n",
    "\n",
    "par_lin, val_lin, err_lin, pval_lin, *other = LS_fit([53, 53.5, 54, 54.5], peaks, peaks_err, linear, a=1, b=0, disp=1)\n",
    "print(f\"P-value: {pval_lin:.3e}\")"
   ]
  },
  {
   "cell_type": "code",
   "execution_count": null,
   "metadata": {},
   "outputs": [],
   "source": [
    "# Plotting the results\n",
    "\n",
    "\n",
    "plt.errorbar([53, 53.5, 54, 54.5], peaks, yerr=peaks_std, fmt='o', color='blue', markersize=2, label='Distanze medie')\n",
    "plt.plot([53, 53.5, 54, 54.5], linear(np.array([53, 53.5, 54, 54.5]), *val_lin), label='Fit lineare', color='red')\n",
    "\n",
    "plt.xlabel('Tensione [V]')\n",
    "plt.ylabel('Distanza media [ADC channels]')\n",
    "plt.title('Distanza media in funzione della tensione')\n",
    "\n",
    "plt.legend()\n",
    "plt.show()"
   ]
  },
  {
   "cell_type": "markdown",
   "metadata": {},
   "source": [
    "**Commento** \n",
    "\n",
    "Gli errori sono molto piccoli, bisogna provare ad usare effettivamente la larghezza delle gaussiane come errore"
   ]
  }
 ],
 "metadata": {
  "kernelspec": {
   "display_name": "Python 3",
   "language": "python",
   "name": "python3"
  },
  "language_info": {
   "codemirror_mode": {
    "name": "ipython",
    "version": 3
   },
   "file_extension": ".py",
   "mimetype": "text/x-python",
   "name": "python",
   "nbconvert_exporter": "python",
   "pygments_lexer": "ipython3",
   "version": "3.11.1"
  }
 },
 "nbformat": 4,
 "nbformat_minor": 2
}
